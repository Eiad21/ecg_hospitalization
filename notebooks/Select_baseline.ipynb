{
 "cells": [
  {
   "cell_type": "code",
   "execution_count": null,
   "id": "8d2731e6",
   "metadata": {},
   "outputs": [],
   "source": [
    "# Import necessary libraries\n",
    "import numpy as np\n",
    "import pandas as pd\n",
    "from sklearn.model_selection import train_test_split\n",
    "from sklearn.ensemble import RandomForestClassifier\n",
    "from sklearn.metrics import accuracy_score, classification_report\n",
    "from sklearn.preprocessing import StandardScaler"
   ]
  },
  {
   "cell_type": "code",
   "execution_count": null,
   "id": "25469ac4",
   "metadata": {},
   "outputs": [],
   "source": [
    "# Generate synthetic data for illustration\n",
    "np.random.seed(42)\n",
    "num_samples = 1000\n",
    "ecg_signals = np.random.randn(num_samples, 100)  # 100 time points in each ECG signal\n",
    "severity_labels = np.random.randint(0, 4, size=num_samples)  # 4 severity levels"
   ]
  },
  {
   "cell_type": "code",
   "execution_count": null,
   "id": "fb2c06d2",
   "metadata": {},
   "outputs": [],
   "source": [
    "# Create a DataFrame\n",
    "df = pd.DataFrame({'ECG_signal': list(ecg_signals), 'Severity': severity_labels})"
   ]
  },
  {
   "cell_type": "code",
   "execution_count": null,
   "id": "7f37b6ba-3fce-4f87-9a14-f639e24d1361",
   "metadata": {},
   "outputs": [],
   "source": [
    "# Split the data into training and testing sets\n",
    "X_train, X_test, y_train, y_test = train_test_split(df['ECG_signal'], df['Severity'], test_size=0.2, random_state=42)"
   ]
  },
  {
   "cell_type": "code",
   "execution_count": null,
   "id": "95e0beb9-2fd2-41f7-a0d4-ee536693561c",
   "metadata": {},
   "outputs": [],
   "source": [
    "# Feature extraction (simplified example)\n",
    "# In a real-world scenario, you would use more advanced signal processing techniques\n",
    "def extract_features(ecg_signal):\n",
    "    # Example: mean of the ECG signal\n",
    "    return np.mean(ecg_signal)"
   ]
  },
  {
   "cell_type": "code",
   "execution_count": null,
   "id": "2f318385-3d57-4738-b1ea-d1af413ff39d",
   "metadata": {},
   "outputs": [],
   "source": [
    "# Apply feature extraction to each ECG signal\n",
    "X_train_features = np.array([extract_features(signal) for signal in X_train])\n",
    "X_test_features = np.array([extract_features(signal) for signal in X_test])"
   ]
  },
  {
   "cell_type": "code",
   "execution_count": null,
   "id": "f137ced5-0b2c-4860-b19e-0e941fdcf3eb",
   "metadata": {},
   "outputs": [],
   "source": [
    "# Standardize features\n",
    "scaler = StandardScaler()\n",
    "X_train_features = scaler.fit_transform(X_train_features.reshape(-1, 1))\n",
    "X_test_features = scaler.transform(X_test_features.reshape(-1, 1))"
   ]
  },
  {
   "cell_type": "code",
   "execution_count": null,
   "id": "440bc9f0-a53d-4dd1-996e-35e2401a2578",
   "metadata": {},
   "outputs": [],
   "source": [
    "# Train a Random Forest classifier\n",
    "clf = RandomForestClassifier(random_state=42)\n",
    "clf.fit(X_train_features, y_train)"
   ]
  },
  {
   "cell_type": "code",
   "execution_count": null,
   "id": "7ad7c72c-d2e7-42eb-8325-3822091e12b8",
   "metadata": {},
   "outputs": [],
   "source": [
    "# Make predictions on the test set\n",
    "y_pred = clf.predict(X_test_features)"
   ]
  },
  {
   "cell_type": "code",
   "execution_count": null,
   "id": "73e4f842-fdd0-4302-ac49-c75697d6f252",
   "metadata": {},
   "outputs": [],
   "source": [
    "# Evaluate the model\n",
    "accuracy = accuracy_score(y_test, y_pred)\n",
    "report = classification_report(y_test, y_pred)"
   ]
  },
  {
   "cell_type": "code",
   "execution_count": null,
   "id": "5064f9db-8e4f-40ad-96fe-d7457522e1be",
   "metadata": {},
   "outputs": [],
   "source": [
    "print(f\"Accuracy: {accuracy}\")\n",
    "print(\"Classification Report:\\n\", report)"
   ]
  },
  {
   "cell_type": "code",
   "execution_count": null,
   "id": "137876eb-256c-4365-9f5e-7a39c6311f2a",
   "metadata": {},
   "outputs": [],
   "source": [
    "import matplotlib.pyplot as plt"
   ]
  },
  {
   "cell_type": "code",
   "execution_count": null,
   "id": "61e3fbb9-f948-4f5a-8a3e-d84f277c8fec",
   "metadata": {},
   "outputs": [],
   "source": [
    "# Plot a few examples of ECG signals and their predicted severity\n",
    "sample_indices = np.random.choice(len(X_test), size=5, replace=False)\n",
    "\n",
    "plt.figure(figsize=(12, 6))\n",
    "for i, index in enumerate(sample_indices, 1):\n",
    "    plt.subplot(2, 3, i)\n",
    "    plt.plot(X_test.iloc[index])\n",
    "    plt.title(f\"Predicted Severity: {y_pred[index]}\")\n",
    "    plt.xlabel(\"Time\")\n",
    "    plt.ylabel(\"ECG Signal\")\n",
    "plt.tight_layout()\n",
    "plt.show()"
   ]
  },
  {
   "cell_type": "code",
   "execution_count": null,
   "id": "1d31f892-1b1a-456d-8eb7-b98766f9ae52",
   "metadata": {},
   "outputs": [],
   "source": [
    "################################### MORE sophisticated with real ECG data ######################################"
   ]
  },
  {
   "cell_type": "code",
   "execution_count": null,
   "id": "b295c093-b7dd-41e3-a99d-aba3e51ca8f4",
   "metadata": {},
   "outputs": [],
   "source": [
    "import os\n",
    "import wfdb\n",
    "\n",
    "# Set the WFDB environment variable to the desired directory\n",
    "os.environ['WFDB'] = 'D:\\\\Omar\\\\Friends\\\\European_HealthCare_Hackathon\\\\cinc2017\\\\c2017\\\\training2017\\\\training2017\\\\'"
   ]
  },
  {
   "cell_type": "code",
   "execution_count": null,
   "id": "f66c3e88-8e46-48a1-9400-daaa65b865b0",
   "metadata": {},
   "outputs": [],
   "source": [
    "# Set the local directory for PhysioNet databases\n",
    "wfdb.dl_database('aami-ec13', dl_dir='D:\\\\Omar\\\\Friends\\\\European_HealthCare_Hackathon\\\\cinc2017\\\\c2017\\\\training2017\\\\training2017\\\\')"
   ]
  },
  {
   "cell_type": "code",
   "execution_count": null,
   "id": "fc5f1a27-2ca9-466c-abaf-819a05423f5f",
   "metadata": {},
   "outputs": [],
   "source": [
    "import scipy.io"
   ]
  },
  {
   "cell_type": "code",
   "execution_count": null,
   "id": "8363309a-25d6-4624-bc3e-60610bafbb01",
   "metadata": {},
   "outputs": [],
   "source": [
    "# Load annotations from the .mat file\n",
    "annotation_path = os.path.join(os.environ['WFDB'], f'{record_name}.mat')\n",
    "mat_data = scipy.io.loadmat(annotation_path)\n",
    "\n",
    "# Extract annotations from the loaded .mat data (replace 'annotations' with the actual key in your .mat file)\n",
    "annotations = mat_data['annotations']\n",
    "\n",
    "# Now you can use 'annotations' in your code as needed"
   ]
  },
  {
   "cell_type": "code",
   "execution_count": 1,
   "id": "2629742a-5214-4976-80f7-343741da9f24",
   "metadata": {},
   "outputs": [],
   "source": [
    "# Import necessary libraries\n",
    "import numpy as np\n",
    "import pandas as pd\n",
    "import wfdb\n",
    "from sklearn.model_selection import train_test_split\n",
    "from sklearn.ensemble import RandomForestClassifier\n",
    "from sklearn.metrics import accuracy_score, classification_report\n",
    "from sklearn.preprocessing import StandardScaler\n",
    "import matplotlib.pyplot as plt"
   ]
  },
  {
   "cell_type": "code",
   "execution_count": null,
   "id": "14a67d80-4477-4970-9ec2-cac85104f4bf",
   "metadata": {},
   "outputs": [],
   "source": [
    "#record_name = 'aami3a'\n",
    "#record_path = 'D:\\\\Omar\\\\Friends\\\\European_HealthCare_Hackathon\\\\cinc2017\\\\c2017\\\\training2017\\\\training2017\\\\' + record_name"
   ]
  },
  {
   "cell_type": "code",
   "execution_count": null,
   "id": "cf1f0889-468a-4d8c-b1e8-d0c5ef138048",
   "metadata": {},
   "outputs": [],
   "source": [
    "# Load the record\n",
    "#record = wfdb.rdrecord(record_path)\n",
    "#annotation = wfdb.rdann(record_path, 'dat')"
   ]
  },
  {
   "cell_type": "code",
   "execution_count": null,
   "id": "0f4f3558-0a8f-4959-bd2c-0b0b14a402a0",
   "metadata": {},
   "outputs": [],
   "source": [
    "# Now, you should be able to load the record without FileNotFoundError\n",
    "#record_name = 'aami3a'\n",
    "#record = wfdb.rdrecord(record_name)\n",
    "#annotation = wfdb.rdann(record_name, 'atr')"
   ]
  },
  {
   "cell_type": "code",
   "execution_count": 2,
   "id": "3eb8e3ce-d4e8-473a-9596-dbc74eb216c9",
   "metadata": {},
   "outputs": [],
   "source": [
    "# Download the PhysioNet/CinC Challenge 2017 dataset (replace with your own dataset if needed)\n",
    "record_list = wfdb.get_record_list('aami-ec13')"
   ]
  },
  {
   "cell_type": "code",
   "execution_count": 3,
   "id": "c49855cb-c8ad-4824-8104-80ce07cd62f7",
   "metadata": {},
   "outputs": [
    {
     "data": {
      "text/plain": [
       "['aami3a',\n",
       " 'aami3b',\n",
       " 'aami3c',\n",
       " 'aami3d',\n",
       " 'aami4a',\n",
       " 'aami4a_d',\n",
       " 'aami4a_h',\n",
       " 'aami4b',\n",
       " 'aami4b_d',\n",
       " 'aami4b_h']"
      ]
     },
     "execution_count": 3,
     "metadata": {},
     "output_type": "execute_result"
    }
   ],
   "source": [
    "record_list"
   ]
  },
  {
   "cell_type": "code",
   "execution_count": 5,
   "id": "a5a7efe5-5b2d-42cf-8a22-c65aab98d1d2",
   "metadata": {},
   "outputs": [],
   "source": [
    "# Create a DataFrame\n",
    "data = []\n",
    "for record_name in record_list:\n",
    "    record_path = 'D:\\\\Omar\\\\Friends\\\\European_HealthCare_Hackathon\\\\cinc2017\\\\c2017\\\\training2017\\\\training2017\\\\' + record_name\n",
    "    record = wfdb.rdrecord(record_path)\n",
    "    annotation = wfdb.rdann(record_path, 'dat')\n",
    "    ecg_signal = record.p_signal[:, 0]  # Assuming single lead ECG\n",
    "    label = annotation.symbol\n",
    "    data.append({'ECG_signal': ecg_signal, 'Label': label})\n",
    "\n",
    "df = pd.DataFrame(data)"
   ]
  },
  {
   "cell_type": "code",
   "execution_count": 7,
   "id": "bc119d67-b71d-48a2-910c-0a1faaecb95f",
   "metadata": {},
   "outputs": [
    {
     "data": {
      "text/html": [
       "<div>\n",
       "<style scoped>\n",
       "    .dataframe tbody tr th:only-of-type {\n",
       "        vertical-align: middle;\n",
       "    }\n",
       "\n",
       "    .dataframe tbody tr th {\n",
       "        vertical-align: top;\n",
       "    }\n",
       "\n",
       "    .dataframe thead th {\n",
       "        text-align: right;\n",
       "    }\n",
       "</style>\n",
       "<table border=\"1\" class=\"dataframe\">\n",
       "  <thead>\n",
       "    <tr style=\"text-align: right;\">\n",
       "      <th></th>\n",
       "      <th>ECG_signal</th>\n",
       "      <th>Label</th>\n",
       "    </tr>\n",
       "  </thead>\n",
       "  <tbody>\n",
       "    <tr>\n",
       "      <th>0</th>\n",
       "      <td>[0.18461538461538463, 0.18461538461538463, 0.1...</td>\n",
       "      <td>[L, L, L, L, L, L, L, L, L, L, L, L, L, L, L, ...</td>\n",
       "    </tr>\n",
       "    <tr>\n",
       "      <th>1</th>\n",
       "      <td>[0.19230769230769232, 0.19230769230769232, 0.1...</td>\n",
       "      <td>[L, L, L, L, L, L, L, L, L, L, L, L, L, L, L, ...</td>\n",
       "    </tr>\n",
       "    <tr>\n",
       "      <th>2</th>\n",
       "      <td>[0.2076923076923077, 0.2076923076923077, 0.223...</td>\n",
       "      <td>[L, L, L, L, L, L, L, L, L, L, L, L, L, L, L, ...</td>\n",
       "    </tr>\n",
       "    <tr>\n",
       "      <th>3</th>\n",
       "      <td>[0.2230769230769231, 0.23846153846153847, 0.24...</td>\n",
       "      <td>[L, L, L, L, L, L, L, L, L, L, L, L, L, L, L, ...</td>\n",
       "    </tr>\n",
       "    <tr>\n",
       "      <th>4</th>\n",
       "      <td>[-0.1, -0.075, -0.05, -0.025, 0.0, 0.0375, 0.0...</td>\n",
       "      <td>[N, N, N, N, L, L, L, L, L, L, L, L, L, L, L, ...</td>\n",
       "    </tr>\n",
       "    <tr>\n",
       "      <th>5</th>\n",
       "      <td>[-0.15, -0.125, -0.1, -0.075, -0.05, -0.025, 0...</td>\n",
       "      <td>[N, N, N, N, N, N, L, L, L, L, L, L, L, L, L, ...</td>\n",
       "    </tr>\n",
       "    <tr>\n",
       "      <th>6</th>\n",
       "      <td>[-0.0625, -0.0375, -0.00625, 0.01875, 0.04375,...</td>\n",
       "      <td>[N, N, N, L, L, L, L, L, L, L, L, L, L, L, L, ...</td>\n",
       "    </tr>\n",
       "    <tr>\n",
       "      <th>7</th>\n",
       "      <td>[-0.4625, -0.4375, -0.4125, -0.3875, -0.3625, ...</td>\n",
       "      <td>[N, N, N, N, N, N, N, N, N, N, N, N, N, N, N, ...</td>\n",
       "    </tr>\n",
       "    <tr>\n",
       "      <th>8</th>\n",
       "      <td>[-0.875, -0.85, -0.825, -0.8, -0.775, -0.75, -...</td>\n",
       "      <td>[N, N, N, N, N, N, N, N, N, N, N, N, N, N, N, ...</td>\n",
       "    </tr>\n",
       "    <tr>\n",
       "      <th>9</th>\n",
       "      <td>[-0.24375, -0.21875, -0.1875, -0.1625, -0.1375...</td>\n",
       "      <td>[N, N, N, N, N, N, N, N, N, L, L, L, L, L, L, ...</td>\n",
       "    </tr>\n",
       "  </tbody>\n",
       "</table>\n",
       "</div>"
      ],
      "text/plain": [
       "                                          ECG_signal  \\\n",
       "0  [0.18461538461538463, 0.18461538461538463, 0.1...   \n",
       "1  [0.19230769230769232, 0.19230769230769232, 0.1...   \n",
       "2  [0.2076923076923077, 0.2076923076923077, 0.223...   \n",
       "3  [0.2230769230769231, 0.23846153846153847, 0.24...   \n",
       "4  [-0.1, -0.075, -0.05, -0.025, 0.0, 0.0375, 0.0...   \n",
       "5  [-0.15, -0.125, -0.1, -0.075, -0.05, -0.025, 0...   \n",
       "6  [-0.0625, -0.0375, -0.00625, 0.01875, 0.04375,...   \n",
       "7  [-0.4625, -0.4375, -0.4125, -0.3875, -0.3625, ...   \n",
       "8  [-0.875, -0.85, -0.825, -0.8, -0.775, -0.75, -...   \n",
       "9  [-0.24375, -0.21875, -0.1875, -0.1625, -0.1375...   \n",
       "\n",
       "                                               Label  \n",
       "0  [L, L, L, L, L, L, L, L, L, L, L, L, L, L, L, ...  \n",
       "1  [L, L, L, L, L, L, L, L, L, L, L, L, L, L, L, ...  \n",
       "2  [L, L, L, L, L, L, L, L, L, L, L, L, L, L, L, ...  \n",
       "3  [L, L, L, L, L, L, L, L, L, L, L, L, L, L, L, ...  \n",
       "4  [N, N, N, N, L, L, L, L, L, L, L, L, L, L, L, ...  \n",
       "5  [N, N, N, N, N, N, L, L, L, L, L, L, L, L, L, ...  \n",
       "6  [N, N, N, L, L, L, L, L, L, L, L, L, L, L, L, ...  \n",
       "7  [N, N, N, N, N, N, N, N, N, N, N, N, N, N, N, ...  \n",
       "8  [N, N, N, N, N, N, N, N, N, N, N, N, N, N, N, ...  \n",
       "9  [N, N, N, N, N, N, N, N, N, L, L, L, L, L, L, ...  "
      ]
     },
     "execution_count": 7,
     "metadata": {},
     "output_type": "execute_result"
    }
   ],
   "source": [
    "df"
   ]
  },
  {
   "cell_type": "code",
   "execution_count": 6,
   "id": "4cf3342a-033f-4ade-9a2e-a9b1545724fe",
   "metadata": {},
   "outputs": [
    {
     "ename": "TypeError",
     "evalue": "unhashable type: 'list'",
     "output_type": "error",
     "traceback": [
      "\u001b[1;31m---------------------------------------------------------------------------\u001b[0m",
      "\u001b[1;31mTypeError\u001b[0m                                 Traceback (most recent call last)",
      "Cell \u001b[1;32mIn[6], line 3\u001b[0m\n\u001b[0;32m      1\u001b[0m \u001b[38;5;66;03m# Map arrhythmia labels to severity levels (for illustration purposes)\u001b[39;00m\n\u001b[0;32m      2\u001b[0m severity_mapping \u001b[38;5;241m=\u001b[39m {\u001b[38;5;124m'\u001b[39m\u001b[38;5;124mN\u001b[39m\u001b[38;5;124m'\u001b[39m: \u001b[38;5;241m0\u001b[39m, \u001b[38;5;124m'\u001b[39m\u001b[38;5;124mA\u001b[39m\u001b[38;5;124m'\u001b[39m: \u001b[38;5;241m1\u001b[39m, \u001b[38;5;124m'\u001b[39m\u001b[38;5;124mO\u001b[39m\u001b[38;5;124m'\u001b[39m: \u001b[38;5;241m2\u001b[39m, \u001b[38;5;124m'\u001b[39m\u001b[38;5;124m~\u001b[39m\u001b[38;5;124m'\u001b[39m: \u001b[38;5;241m3\u001b[39m}\n\u001b[1;32m----> 3\u001b[0m df[\u001b[38;5;124m'\u001b[39m\u001b[38;5;124mSeverity\u001b[39m\u001b[38;5;124m'\u001b[39m] \u001b[38;5;241m=\u001b[39m df[\u001b[38;5;124m'\u001b[39m\u001b[38;5;124mLabel\u001b[39m\u001b[38;5;124m'\u001b[39m]\u001b[38;5;241m.\u001b[39mmap(severity_mapping)\n\u001b[0;32m      5\u001b[0m \u001b[38;5;66;03m# Split the data into training and testing sets\u001b[39;00m\n\u001b[0;32m      6\u001b[0m X_train, X_test, y_train, y_test \u001b[38;5;241m=\u001b[39m train_test_split(df[\u001b[38;5;124m'\u001b[39m\u001b[38;5;124mECG_signal\u001b[39m\u001b[38;5;124m'\u001b[39m], df[\u001b[38;5;124m'\u001b[39m\u001b[38;5;124mSeverity\u001b[39m\u001b[38;5;124m'\u001b[39m], test_size\u001b[38;5;241m=\u001b[39m\u001b[38;5;241m0.2\u001b[39m, random_state\u001b[38;5;241m=\u001b[39m\u001b[38;5;241m42\u001b[39m)\n",
      "File \u001b[1;32m~\\anaconda3\\envs\\e_hc_h\\Lib\\site-packages\\pandas\\core\\series.py:4540\u001b[0m, in \u001b[0;36mSeries.map\u001b[1;34m(self, arg, na_action)\u001b[0m\n\u001b[0;32m   4460\u001b[0m \u001b[38;5;28;01mdef\u001b[39;00m \u001b[38;5;21mmap\u001b[39m(\n\u001b[0;32m   4461\u001b[0m     \u001b[38;5;28mself\u001b[39m,\n\u001b[0;32m   4462\u001b[0m     arg: Callable \u001b[38;5;241m|\u001b[39m Mapping \u001b[38;5;241m|\u001b[39m Series,\n\u001b[0;32m   4463\u001b[0m     na_action: Literal[\u001b[38;5;124m\"\u001b[39m\u001b[38;5;124mignore\u001b[39m\u001b[38;5;124m\"\u001b[39m] \u001b[38;5;241m|\u001b[39m \u001b[38;5;28;01mNone\u001b[39;00m \u001b[38;5;241m=\u001b[39m \u001b[38;5;28;01mNone\u001b[39;00m,\n\u001b[0;32m   4464\u001b[0m ) \u001b[38;5;241m-\u001b[39m\u001b[38;5;241m>\u001b[39m Series:\n\u001b[0;32m   4465\u001b[0m \u001b[38;5;250m    \u001b[39m\u001b[38;5;124;03m\"\"\"\u001b[39;00m\n\u001b[0;32m   4466\u001b[0m \u001b[38;5;124;03m    Map values of Series according to an input mapping or function.\u001b[39;00m\n\u001b[0;32m   4467\u001b[0m \n\u001b[1;32m   (...)\u001b[0m\n\u001b[0;32m   4538\u001b[0m \u001b[38;5;124;03m    dtype: object\u001b[39;00m\n\u001b[0;32m   4539\u001b[0m \u001b[38;5;124;03m    \"\"\"\u001b[39;00m\n\u001b[1;32m-> 4540\u001b[0m     new_values \u001b[38;5;241m=\u001b[39m \u001b[38;5;28mself\u001b[39m\u001b[38;5;241m.\u001b[39m_map_values(arg, na_action\u001b[38;5;241m=\u001b[39mna_action)\n\u001b[0;32m   4541\u001b[0m     \u001b[38;5;28;01mreturn\u001b[39;00m \u001b[38;5;28mself\u001b[39m\u001b[38;5;241m.\u001b[39m_constructor(new_values, index\u001b[38;5;241m=\u001b[39m\u001b[38;5;28mself\u001b[39m\u001b[38;5;241m.\u001b[39mindex, copy\u001b[38;5;241m=\u001b[39m\u001b[38;5;28;01mFalse\u001b[39;00m)\u001b[38;5;241m.\u001b[39m__finalize__(\n\u001b[0;32m   4542\u001b[0m         \u001b[38;5;28mself\u001b[39m, method\u001b[38;5;241m=\u001b[39m\u001b[38;5;124m\"\u001b[39m\u001b[38;5;124mmap\u001b[39m\u001b[38;5;124m\"\u001b[39m\n\u001b[0;32m   4543\u001b[0m     )\n",
      "File \u001b[1;32m~\\anaconda3\\envs\\e_hc_h\\Lib\\site-packages\\pandas\\core\\base.py:921\u001b[0m, in \u001b[0;36mIndexOpsMixin._map_values\u001b[1;34m(self, mapper, na_action, convert)\u001b[0m\n\u001b[0;32m    918\u001b[0m \u001b[38;5;28;01mif\u001b[39;00m \u001b[38;5;28misinstance\u001b[39m(arr, ExtensionArray):\n\u001b[0;32m    919\u001b[0m     \u001b[38;5;28;01mreturn\u001b[39;00m arr\u001b[38;5;241m.\u001b[39mmap(mapper, na_action\u001b[38;5;241m=\u001b[39mna_action)\n\u001b[1;32m--> 921\u001b[0m \u001b[38;5;28;01mreturn\u001b[39;00m algorithms\u001b[38;5;241m.\u001b[39mmap_array(arr, mapper, na_action\u001b[38;5;241m=\u001b[39mna_action, convert\u001b[38;5;241m=\u001b[39mconvert)\n",
      "File \u001b[1;32m~\\anaconda3\\envs\\e_hc_h\\Lib\\site-packages\\pandas\\core\\algorithms.py:1803\u001b[0m, in \u001b[0;36mmap_array\u001b[1;34m(arr, mapper, na_action, convert)\u001b[0m\n\u001b[0;32m   1799\u001b[0m     mapper \u001b[38;5;241m=\u001b[39m mapper[mapper\u001b[38;5;241m.\u001b[39mindex\u001b[38;5;241m.\u001b[39mnotna()]\n\u001b[0;32m   1801\u001b[0m \u001b[38;5;66;03m# Since values were input this means we came from either\u001b[39;00m\n\u001b[0;32m   1802\u001b[0m \u001b[38;5;66;03m# a dict or a series and mapper should be an index\u001b[39;00m\n\u001b[1;32m-> 1803\u001b[0m indexer \u001b[38;5;241m=\u001b[39m mapper\u001b[38;5;241m.\u001b[39mindex\u001b[38;5;241m.\u001b[39mget_indexer(arr)\n\u001b[0;32m   1804\u001b[0m new_values \u001b[38;5;241m=\u001b[39m take_nd(mapper\u001b[38;5;241m.\u001b[39m_values, indexer)\n\u001b[0;32m   1806\u001b[0m \u001b[38;5;28;01mreturn\u001b[39;00m new_values\n",
      "File \u001b[1;32m~\\anaconda3\\envs\\e_hc_h\\Lib\\site-packages\\pandas\\core\\indexes\\base.py:3942\u001b[0m, in \u001b[0;36mIndex.get_indexer\u001b[1;34m(self, target, method, limit, tolerance)\u001b[0m\n\u001b[0;32m   3937\u001b[0m     target \u001b[38;5;241m=\u001b[39m target\u001b[38;5;241m.\u001b[39mastype(dtype, copy\u001b[38;5;241m=\u001b[39m\u001b[38;5;28;01mFalse\u001b[39;00m)\n\u001b[0;32m   3938\u001b[0m     \u001b[38;5;28;01mreturn\u001b[39;00m this\u001b[38;5;241m.\u001b[39m_get_indexer(\n\u001b[0;32m   3939\u001b[0m         target, method\u001b[38;5;241m=\u001b[39mmethod, limit\u001b[38;5;241m=\u001b[39mlimit, tolerance\u001b[38;5;241m=\u001b[39mtolerance\n\u001b[0;32m   3940\u001b[0m     )\n\u001b[1;32m-> 3942\u001b[0m \u001b[38;5;28;01mreturn\u001b[39;00m \u001b[38;5;28mself\u001b[39m\u001b[38;5;241m.\u001b[39m_get_indexer(target, method, limit, tolerance)\n",
      "File \u001b[1;32m~\\anaconda3\\envs\\e_hc_h\\Lib\\site-packages\\pandas\\core\\indexes\\base.py:3969\u001b[0m, in \u001b[0;36mIndex._get_indexer\u001b[1;34m(self, target, method, limit, tolerance)\u001b[0m\n\u001b[0;32m   3966\u001b[0m     \u001b[38;5;28;01melse\u001b[39;00m:\n\u001b[0;32m   3967\u001b[0m         tgt_values \u001b[38;5;241m=\u001b[39m target\u001b[38;5;241m.\u001b[39m_get_engine_target()\n\u001b[1;32m-> 3969\u001b[0m     indexer \u001b[38;5;241m=\u001b[39m \u001b[38;5;28mself\u001b[39m\u001b[38;5;241m.\u001b[39m_engine\u001b[38;5;241m.\u001b[39mget_indexer(tgt_values)\n\u001b[0;32m   3971\u001b[0m \u001b[38;5;28;01mreturn\u001b[39;00m ensure_platform_int(indexer)\n",
      "File \u001b[1;32mindex.pyx:336\u001b[0m, in \u001b[0;36mpandas._libs.index.IndexEngine.get_indexer\u001b[1;34m()\u001b[0m\n",
      "File \u001b[1;32mpandas\\_libs\\hashtable_class_helper.pxi:7131\u001b[0m, in \u001b[0;36mpandas._libs.hashtable.PyObjectHashTable.lookup\u001b[1;34m()\u001b[0m\n",
      "\u001b[1;31mTypeError\u001b[0m: unhashable type: 'list'"
     ]
    }
   ],
   "source": [
    "\n",
    "\n",
    "# Map arrhythmia labels to severity levels (for illustration purposes)\n",
    "severity_mapping = {'N': 0, 'A': 1, 'O': 2, '~': 3}\n",
    "df['Severity'] = df['Label'].map(severity_mapping)\n",
    "\n",
    "# Split the data into training and testing sets\n",
    "X_train, X_test, y_train, y_test = train_test_split(df['ECG_signal'], df['Severity'], test_size=0.2, random_state=42)\n",
    "\n",
    "# Feature extraction (use more advanced methods in a real-world scenario)\n",
    "def extract_features(ecg_signal):\n",
    "    # Example: compute heart rate from RR intervals\n",
    "    rr_intervals = np.diff(np.where(ecg_signal > 0.5)[0])  # Assuming threshold for R-peaks\n",
    "    heart_rate = 60 / np.mean(rr_intervals) if len(rr_intervals) > 0 else 0\n",
    "    return heart_rate\n",
    "\n",
    "# Apply feature extraction to each ECG signal\n",
    "X_train_features = np.array([extract_features(signal) for signal in X_train])\n",
    "X_test_features = np.array([extract_features(signal) for signal in X_test])\n",
    "\n",
    "# Standardize features\n",
    "scaler = StandardScaler()\n",
    "X_train_features = scaler.fit_transform(X_train_features.reshape(-1, 1))\n",
    "X_test_features = scaler.transform(X_test_features.reshape(-1, 1))\n",
    "\n",
    "# Train a Random Forest classifier\n",
    "clf = RandomForestClassifier(random_state=42)\n",
    "clf.fit(X_train_features, y_train)\n",
    "\n",
    "# Make predictions on the test set\n",
    "y_pred = clf.predict(X_test_features)\n",
    "\n",
    "# Evaluate the model\n",
    "accuracy = accuracy_score(y_test, y_pred)\n",
    "report = classification_report(y_test, y_pred)\n",
    "\n",
    "print(f\"Accuracy: {accuracy}\")\n",
    "print(\"Classification Report:\\n\", report)\n",
    "\n",
    "# Plot a few examples of ECG signals and their predicted severity\n",
    "sample_indices = np.random.choice(len(X_test), size=5, replace=False)\n",
    "\n",
    "plt.figure(figsize=(12, 6))\n",
    "for i, index in enumerate(sample_indices, 1):\n",
    "    plt.subplot(2, 3, i)\n",
    "    plt.plot(X_test.iloc[index])\n",
    "    plt.title(f\"Predicted Severity: {y_pred[index]}\")\n",
    "    plt.xlabel(\"Time\")\n",
    "    plt.ylabel(\"ECG Signal\")\n",
    "plt.tight_layout()\n",
    "plt.show()"
   ]
  },
  {
   "cell_type": "code",
   "execution_count": null,
   "id": "1a8329c5-af26-4350-a283-5211e087bf5c",
   "metadata": {},
   "outputs": [],
   "source": []
  }
 ],
 "metadata": {
  "kernelspec": {
   "display_name": "Python 3 (ipykernel)",
   "language": "python",
   "name": "python3"
  },
  "language_info": {
   "codemirror_mode": {
    "name": "ipython",
    "version": 3
   },
   "file_extension": ".py",
   "mimetype": "text/x-python",
   "name": "python",
   "nbconvert_exporter": "python",
   "pygments_lexer": "ipython3",
   "version": "3.11.5"
  }
 },
 "nbformat": 4,
 "nbformat_minor": 5
}
