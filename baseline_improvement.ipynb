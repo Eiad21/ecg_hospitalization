{
 "cells": [
  {
   "cell_type": "code",
   "execution_count": null,
   "id": "175d406c-1e6c-47be-b2df-a13c83b42ba4",
   "metadata": {},
   "outputs": [],
   "source": []
  },
  {
   "cell_type": "code",
   "execution_count": null,
   "id": "3a787d85-0f26-40d3-9b84-fadd7c490e04",
   "metadata": {},
   "outputs": [],
   "source": []
  },
  {
   "cell_type": "code",
   "execution_count": null,
   "id": "0c70b3ce-e1d6-4c68-af15-06075b917581",
   "metadata": {},
   "outputs": [],
   "source": []
  },
  {
   "cell_type": "code",
   "execution_count": null,
   "id": "60365467-af43-4e0f-a6b8-b272adc0568e",
   "metadata": {},
   "outputs": [],
   "source": []
  },
  {
   "cell_type": "code",
   "execution_count": null,
   "id": "cc8bef37-69e1-4392-a7c2-502963c8883e",
   "metadata": {},
   "outputs": [],
   "source": []
  },
  {
   "cell_type": "code",
   "execution_count": null,
   "id": "a3e2e3a6-9b14-49fe-8fde-6502770bbcc7",
   "metadata": {},
   "outputs": [],
   "source": []
  },
  {
   "cell_type": "code",
   "execution_count": null,
   "id": "3e8343e9-0286-4e18-a314-ece1487cea32",
   "metadata": {},
   "outputs": [],
   "source": []
  },
  {
   "cell_type": "code",
   "execution_count": null,
   "id": "4e7fb275-f83e-4ae3-a25a-09ca64678ec2",
   "metadata": {},
   "outputs": [],
   "source": []
  },
  {
   "cell_type": "code",
   "execution_count": null,
   "id": "26064a62-12f4-46ef-84b2-1d1bff88c72f",
   "metadata": {},
   "outputs": [],
   "source": []
  },
  {
   "cell_type": "code",
   "execution_count": null,
   "id": "2defbb84-e659-4ab4-b9a7-09db694516d1",
   "metadata": {},
   "outputs": [],
   "source": []
  },
  {
   "cell_type": "code",
   "execution_count": null,
   "id": "788c80d9-c1fb-40b5-9c14-6dc7868db3c2",
   "metadata": {},
   "outputs": [],
   "source": []
  },
  {
   "cell_type": "code",
   "execution_count": null,
   "id": "2d5878cf-9f10-476e-85c9-a4b02b51f73c",
   "metadata": {},
   "outputs": [],
   "source": []
  },
  {
   "cell_type": "code",
   "execution_count": null,
   "id": "1915e12d-b7b1-4016-b92f-4ce5d41e925f",
   "metadata": {},
   "outputs": [],
   "source": []
  },
  {
   "cell_type": "code",
   "execution_count": null,
   "id": "a009e439-1f57-4e04-883c-e743671f39a4",
   "metadata": {},
   "outputs": [],
   "source": []
  },
  {
   "cell_type": "code",
   "execution_count": null,
   "id": "057a384c-653c-48af-8096-f384fcbcb5b0",
   "metadata": {},
   "outputs": [],
   "source": []
  },
  {
   "cell_type": "code",
   "execution_count": 5,
   "id": "c17858df-34cc-4d8a-a140-7255c1650903",
   "metadata": {},
   "outputs": [],
   "source": [
    "import numpy as np\n",
    "from scipy.stats import skew, kurtosis\n",
    "from scipy.signal import find_peaks\n",
    "from scipy.fft import fft\n",
    "from biosppy.signals import ecg  # Biosppy is a library for biosignal processing"
   ]
  },
  {
   "cell_type": "code",
   "execution_count": 6,
   "id": "64880d9f-4557-40aa-8b05-69ac95363ee6",
   "metadata": {},
   "outputs": [],
   "source": [
    "import pickle"
   ]
  },
  {
   "cell_type": "code",
   "execution_count": 4,
   "id": "c77e48a5-37ac-4b87-bcb0-5a17541aa828",
   "metadata": {},
   "outputs": [
    {
     "ename": "NameError",
     "evalue": "name 'pickle' is not defined",
     "output_type": "error",
     "traceback": [
      "\u001b[1;31m---------------------------------------------------------------------------\u001b[0m",
      "\u001b[1;31mNameError\u001b[0m                                 Traceback (most recent call last)",
      "Cell \u001b[1;32mIn[4], line 3\u001b[0m\n\u001b[0;32m      1\u001b[0m \u001b[38;5;66;03m# Open the file in binary read mode ('rb') to unpickle the data\u001b[39;00m\n\u001b[0;32m      2\u001b[0m \u001b[38;5;28;01mwith\u001b[39;00m \u001b[38;5;28mopen\u001b[39m(\u001b[38;5;124m'\u001b[39m\u001b[38;5;124mbatch_of_data.pickle\u001b[39m\u001b[38;5;124m'\u001b[39m, \u001b[38;5;124m'\u001b[39m\u001b[38;5;124mrb\u001b[39m\u001b[38;5;124m'\u001b[39m) \u001b[38;5;28;01mas\u001b[39;00m file:\n\u001b[1;32m----> 3\u001b[0m     ecg_data \u001b[38;5;241m=\u001b[39m pickle\u001b[38;5;241m.\u001b[39mload(file)\n",
      "\u001b[1;31mNameError\u001b[0m: name 'pickle' is not defined"
     ]
    }
   ],
   "source": [
    "# Open the file in binary read mode ('rb') to unpickle the data\n",
    "with open('batch_of_data.pickle', 'rb') as file:\n",
    "    loaded__data = pickle.load(file)"
   ]
  },
  {
   "cell_type": "code",
   "execution_count": null,
   "id": "e447608b-c80f-4e37-bf23-cf81ed21896f",
   "metadata": {},
   "outputs": [],
   "source": [
    "ecg_data = []\n",
    "for patient in loaded_data:\n",
    "    new_patient_format = np.array(list(patient.values()))\n",
    "    ecg_data.append(new_patient_format)\n",
    "    print(len(new_patient_format[7]))"
   ]
  },
  {
   "cell_type": "code",
   "execution_count": null,
   "id": "3de51f51-c5b4-4618-bbab-98dc28cd4480",
   "metadata": {},
   "outputs": [],
   "source": [
    "ecg_data = np.array(ecg_data)"
   ]
  },
  {
   "cell_type": "code",
   "execution_count": null,
   "id": "fe431c47-d8d6-4cce-b69d-4342110f4031",
   "metadata": {},
   "outputs": [],
   "source": [
    "ecg_data"
   ]
  },
  {
   "cell_type": "code",
   "execution_count": 7,
   "id": "2c2186c0-3f9e-4bba-9c94-001b4b0745ea",
   "metadata": {},
   "outputs": [],
   "source": [
    "num_patients = 23292\n",
    "num_leads = 8\n",
    "num_time_points = 5000"
   ]
  },
  {
   "cell_type": "code",
   "execution_count": 8,
   "id": "e74a29ea-6b8c-4b0c-bfb2-f1ed28099ee4",
   "metadata": {},
   "outputs": [],
   "source": [
    "np.random.seed(42)\n",
    "ecg_data = np.random.randn(num_patients, num_leads, num_time_points)\n",
    "labels = np.random.randint(0, 3, size=num_patients)"
   ]
  },
  {
   "cell_type": "code",
   "execution_count": null,
   "id": "d900bb2c-72d4-48f3-90ec-bb8b42b09301",
   "metadata": {},
   "outputs": [],
   "source": [
    "# Function to extract features from each lead\n",
    "def extract_features(lead):\n",
    "    # 1. Statistical Features\n",
    "    mean_value = np.mean(lead)\n",
    "    median_value = np.median(lead)\n",
    "    std_dev_value = np.std(lead)\n",
    "    skewness_value = skew(lead)\n",
    "    kurtosis_value = kurtosis(lead)\n",
    "\n",
    "    # 2. Time-Domain Features\n",
    "    # You might need to preprocess the data to find R-peaks for RR interval calculations\n",
    "    # Example using biosppy\n",
    "    _, rpeaks = ecg.ecg(lead, sampling_rate=500, show=True)\n",
    "    rr_interval = np.diff(rpeaks)\n",
    "\n",
    "    # Calculate features from RR intervals\n",
    "    rr_mean = np.mean(rr_interval)\n",
    "    heart_rate = 60 / rr_mean\n",
    "\n",
    "    # 3. Frequency-Domain Features\n",
    "    #power_spectral_density (psd) shape is (num_time_points // 2 + 1)\n",
    "    f, psd = signal.welch(lead, fs=500)\n",
    "    dominant_frequency = f[np.argmax(psd)]\n",
    "    spectral_entropy = -np.sum(psd * np.log2(psd + 1e-10))\n",
    "\n",
    "    # 4. Wavelet Transform (using PyWavelets library)\n",
    "    import pywt\n",
    "    # Wavelet Transform Features\n",
    "    coeffs = pywt.wavedec(lead, 'db1', level=4)\n",
    "\n",
    "    # Combine all features into a single array\n",
    "    extracted_features = np.array([\n",
    "        mean_value, median_value, std_dev_value, skewness_value, kurtosis_value,\n",
    "        rr_mean, heart_rate, dominant_frequency, spectral_entropy,\n",
    "        *coeffs[0], *coeffs[1], *coeffs[2], *coeffs[3]\n",
    "    ])\n",
    "\n",
    "    return extracted_features\n",
    "\n",
    "#    (cA, cD) = pywt.dwt(lead, 'db1')\n",
    "\n",
    "    # 5. Heart Rate Variability Features\n",
    "    # Already calculated RR intervals, you can extract various features from them\n",
    "\n",
    "    # 6. Dynamical Features\n",
    "    # You might need a dynamic model or use dynamic time warping techniques\n",
    "\n",
    "    # 7. Deep Learning Representations\n",
    "    # Use pre-trained models or train your own CNN/RNN on ECG data\n",
    "\n",
    "    # 8. Principal Component Analysis (PCA)\n",
    "#    from sklearn.decomposition import PCA\n",
    "\n",
    "#    flattened_data = np.reshape(ecg_data, (num_patients, -1))\n",
    "#    pca = PCA(n_components=10)  # Adjust the number of components\n",
    "#    pca_features = pca.fit_transform(flattened_data)\n",
    "    \n",
    "    # 9. Cross-Lead Features\n",
    "#    lead_correlations = np.zeros((num_patients, num_leads, num_leads))\n",
    "#    for i in range(num_patients):\n",
    "#        for j in range(num_leads):\n",
    "#            for k in range(num_leads):\n",
    "#                lead_correlations[i, j, k] = np.corrcoef(ecg_data[i, j, :], ecg_data[i, k, :])[0, 1]"
   ]
  },
  {
   "cell_type": "code",
   "execution_count": null,
   "id": "804ffb55-abd4-49e9-9b19-0bcaf8303c99",
   "metadata": {},
   "outputs": [],
   "source": [
    "# Initialize an empty array to store features for each patient\n",
    "patient_features = np.zeros((num_patients, len(extract_features(ecg_data[0, 0, :])) * num_leads))"
   ]
  },
  {
   "cell_type": "code",
   "execution_count": null,
   "id": "a4a19cff-b54c-4425-a24c-c6fc2dc28274",
   "metadata": {},
   "outputs": [],
   "source": [
    "# Apply feature extraction for each lead and concatenate features for each patient\n",
    "for patient_index in range(num_patients):\n",
    "    patient_lead_features = np.zeros((num_leads, len(extract_features(ecg_data[0, 0, :]))))\n",
    "    \n",
    "    for lead_index in range(num_leads):\n",
    "        patient_lead_features[lead_index, :] = extract_features(ecg_data[patient_index, lead_index, :])\n",
    "    \n",
    "    # Concatenate features for the current patient\n",
    "    patient_features[patient_index, :] = patient_lead_features.flatten()"
   ]
  },
  {
   "cell_type": "code",
   "execution_count": null,
   "id": "558919b1-de4a-4fed-9f79-a2503ef36902",
   "metadata": {},
   "outputs": [],
   "source": [
    "y = labels"
   ]
  },
  {
   "cell_type": "code",
   "execution_count": null,
   "id": "20ce450d-704b-43f6-b2b2-d020a80618de",
   "metadata": {},
   "outputs": [],
   "source": [
    "from sklearn.model_selection import train_test_split\n",
    "from sklearn.ensemble import RandomForestClassifier\n",
    "from sklearn.metrics import accuracy_score, classification_report\n",
    "from sklearn.preprocessing import StandardScaler"
   ]
  },
  {
   "cell_type": "code",
   "execution_count": null,
   "id": "a1bb750f-be35-4ede-859b-95c9528d44a3",
   "metadata": {},
   "outputs": [],
   "source": [
    "# Assuming patient_features is your 2D array of features (patients x features)\n",
    "# Assuming y is your target labels\n",
    "\n",
    "# Split the data into training and testing sets\n",
    "X_train, X_test, y_train, y_test = train_test_split(patient_features, y, test_size=0.2, random_state=42)"
   ]
  },
  {
   "cell_type": "code",
   "execution_count": null,
   "id": "616e943d-1133-4c29-a8d3-622c23322fea",
   "metadata": {},
   "outputs": [],
   "source": [
    "lead_features.shape"
   ]
  },
  {
   "cell_type": "code",
   "execution_count": null,
   "id": "fc18d588-5f1c-4cf8-ba6a-0ac8a80e07c6",
   "metadata": {},
   "outputs": [],
   "source": [
    "# Standardize the features\n",
    "scaler = StandardScaler()\n",
    "X_train_scaled = scaler.fit_transform(X_train)\n",
    "X_test_scaled = scaler.transform(X_test)"
   ]
  },
  {
   "cell_type": "code",
   "execution_count": null,
   "id": "2c0f47bf-d402-437e-99b0-2a58387fb305",
   "metadata": {},
   "outputs": [],
   "source": [
    "# Train a Random Forest classifier\n",
    "rf_classifier = RandomForestClassifier(n_estimators=100, random_state=42)\n",
    "rf_classifier.fit(X_train_scaled, y_train)"
   ]
  },
  {
   "cell_type": "code",
   "execution_count": null,
   "id": "abdddfcf-6508-45a9-97b2-08699461ddc9",
   "metadata": {},
   "outputs": [],
   "source": [
    "# Make predictions on the test set\n",
    "y_pred = rf_classifier.predict(X_test_scaled)"
   ]
  },
  {
   "cell_type": "code",
   "execution_count": null,
   "id": "a7b30feb-0c30-453c-a632-907b074a4e31",
   "metadata": {},
   "outputs": [],
   "source": [
    "# Evaluate the model\n",
    "accuracy = accuracy_score(y_test, y_pred)\n",
    "report = classification_report(y_test, y_pred)"
   ]
  },
  {
   "cell_type": "code",
   "execution_count": null,
   "id": "373c45c1-a351-442d-b595-54f232cbbcec",
   "metadata": {},
   "outputs": [],
   "source": [
    "print(\"Accuracy:\", accuracy)\n",
    "print(\"Classification Report:\\n\", report)"
   ]
  }
 ],
 "metadata": {
  "kernelspec": {
   "display_name": "Python 3 (ipykernel)",
   "language": "python",
   "name": "python3"
  },
  "language_info": {
   "codemirror_mode": {
    "name": "ipython",
    "version": 3
   },
   "file_extension": ".py",
   "mimetype": "text/x-python",
   "name": "python",
   "nbconvert_exporter": "python",
   "pygments_lexer": "ipython3",
   "version": "3.11.5"
  }
 },
 "nbformat": 4,
 "nbformat_minor": 5
}
