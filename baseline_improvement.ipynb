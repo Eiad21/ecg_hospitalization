{
 "cells": [
  {
   "cell_type": "code",
   "execution_count": 1,
   "id": "a009e439-1f57-4e04-883c-e743671f39a4",
   "metadata": {},
   "outputs": [],
   "source": [
    "import numpy as np\n",
    "import pandas as pd\n",
    "from pathlib import Path\n",
    "from tqdm import tqdm\n",
    "#import numpy as np\n",
    "from scipy.stats import skew, kurtosis\n",
    "from scipy import signal\n",
    "from scipy.fft import fft\n",
    "from biosppy.signals import ecg  # Biosppy is a library for biosignal processing\n",
    "import pywt\n",
    "from sklearn.model_selection import train_test_split\n",
    "from sklearn.ensemble import RandomForestClassifier\n",
    "from sklearn.metrics import accuracy_score, classification_report\n",
    "from sklearn.preprocessing import StandardScaler"
   ]
  },
  {
   "cell_type": "code",
   "execution_count": 2,
   "id": "dff34e9d-cdb9-4f06-89ec-30f2d748cc78",
   "metadata": {},
   "outputs": [],
   "source": [
    "# Load the CSV file into a DataFrame\n",
    "csv_path = 'D:\\Omar\\Friends\\European_HealthCare_Hackathon\\ecg_hospitalization\\data\\processed\\meta\\data_pairs.csv'  # Replace with the path to your CSV file\n",
    "df = pd.read_csv(csv_path)"
   ]
  },
  {
   "cell_type": "code",
   "execution_count": 3,
   "id": "881e3b13-3c96-42e4-8710-88fe138053f8",
   "metadata": {},
   "outputs": [],
   "source": [
    "# Initialize empty lists to store data\n",
    "data_list = []\n",
    "labels_list = []"
   ]
  },
  {
   "cell_type": "code",
   "execution_count": 4,
   "id": "8906b31f-fea9-49b1-bbf8-e77f141e5b88",
   "metadata": {},
   "outputs": [
    {
     "name": "stderr",
     "output_type": "stream",
     "text": [
      "23292it [09:11, 42.23it/s] \n"
     ]
    }
   ],
   "source": [
    "# Iterate through rows and load .npy files\n",
    "for index, row in tqdm(df.iterrows()):\n",
    "    file_path = row['np_file_path']\n",
    "    label = row['label']\n",
    "\n",
    "    # Load the .npy file\n",
    "    loaded_data = np.load(file_path)\n",
    "\n",
    "    # Append the loaded data and label to the lists\n",
    "    data_list.append(loaded_data)\n",
    "    labels_list.append(label)"
   ]
  },
  {
   "cell_type": "code",
   "execution_count": 8,
   "id": "76f93a28-59d0-41ff-a237-24e3c67b12a4",
   "metadata": {},
   "outputs": [],
   "source": [
    "# Convert lists to NumPy arrays\n",
    "data_array = np.array(data_list)\n",
    "labels_array = np.array(labels_list)"
   ]
  },
  {
   "cell_type": "code",
   "execution_count": 9,
   "id": "9f005fab-7fdb-45df-bd41-d77e5b725881",
   "metadata": {},
   "outputs": [
    {
     "name": "stdout",
     "output_type": "stream",
     "text": [
      "Data Array Shape: (23292, 8, 5000)\n",
      "Labels Array Shape: (23292,)\n"
     ]
    }
   ],
   "source": [
    "# Print shapes for verification\n",
    "print(\"Data Array Shape:\", data_array.shape)\n",
    "print(\"Labels Array Shape:\", labels_array.shape)"
   ]
  },
  {
   "cell_type": "code",
   "execution_count": 10,
   "id": "6adeab7b-b6ad-4fa1-a646-cfe5c5157d31",
   "metadata": {},
   "outputs": [],
   "source": [
    "# Load the CSV file into a DataFrame\n",
    "#csv_path = 'your_file.csv'  # Replace with the path to your CSV file\n",
    "#df = pd.read_csv(csv_path, header=None, names=['np_file_path', 'label'])"
   ]
  },
  {
   "cell_type": "code",
   "execution_count": 25,
   "id": "c1dc12a8-a1a6-4bd1-91be-3f6a8389cd28",
   "metadata": {},
   "outputs": [],
   "source": [
    "indices_with_nans = [370, 4733, 4936, 5404, 8354, 9146, 10268, 10879, 12946, 14674, 15413, 15702]"
   ]
  },
  {
   "cell_type": "code",
   "execution_count": 26,
   "id": "fa4abdf9-c565-440d-8509-a6b25e746895",
   "metadata": {},
   "outputs": [],
   "source": [
    "data_array = data_array[np.logical_not(np.isin(np.arange(len(data_array)), indices_with_nans))]"
   ]
  },
  {
   "cell_type": "code",
   "execution_count": 27,
   "id": "2c7580e3-9dd6-4c65-82d0-ea14721d4ad1",
   "metadata": {},
   "outputs": [],
   "source": [
    "labels_array = labels_array[np.logical_not(np.isin(np.arange(len(labels_array)), indices_with_nans))]"
   ]
  },
  {
   "cell_type": "code",
   "execution_count": 11,
   "id": "b498ed0b-f1c4-4132-8a59-d5cc4dad5288",
   "metadata": {},
   "outputs": [],
   "source": [
    "# Assuming ecg_data is your 3D array of raw ECG data\n",
    "# Assuming labels are integers (0, 1, 2) representing the three classes\n",
    "num_patients, num_leads, num_time_points = data_array.shape"
   ]
  },
  {
   "cell_type": "code",
   "execution_count": 12,
   "id": "c17858df-34cc-4d8a-a140-7255c1650903",
   "metadata": {},
   "outputs": [],
   "source": []
  },
  {
   "cell_type": "code",
   "execution_count": 13,
   "id": "64880d9f-4557-40aa-8b05-69ac95363ee6",
   "metadata": {},
   "outputs": [],
   "source": [
    "#import pickle"
   ]
  },
  {
   "cell_type": "code",
   "execution_count": 14,
   "id": "c77e48a5-37ac-4b87-bcb0-5a17541aa828",
   "metadata": {},
   "outputs": [],
   "source": [
    "# Open the file in binary read mode ('rb') to unpickle the data\n",
    "#with open('batch_of_data.pickle', 'rb') as file:\n",
    "#    loaded__data = pickle.load(file)"
   ]
  },
  {
   "cell_type": "code",
   "execution_count": 15,
   "id": "e447608b-c80f-4e37-bf23-cf81ed21896f",
   "metadata": {},
   "outputs": [],
   "source": [
    "#ecg_data = []\n",
    "#for patient in loaded_data:\n",
    "#    new_patient_format = np.array(list(patient.values()))\n",
    "#    ecg_data.append(new_patient_format)\n",
    "#    print(len(new_patient_format[7]))"
   ]
  },
  {
   "cell_type": "code",
   "execution_count": 16,
   "id": "3de51f51-c5b4-4618-bbab-98dc28cd4480",
   "metadata": {},
   "outputs": [],
   "source": [
    "#ecg_data = np.array(ecg_data)"
   ]
  },
  {
   "cell_type": "code",
   "execution_count": 17,
   "id": "fe431c47-d8d6-4cce-b69d-4342110f4031",
   "metadata": {},
   "outputs": [],
   "source": [
    "ecg_data = data_array\n",
    "labels = labels_array"
   ]
  },
  {
   "cell_type": "code",
   "execution_count": 18,
   "id": "2c2186c0-3f9e-4bba-9c94-001b4b0745ea",
   "metadata": {},
   "outputs": [],
   "source": [
    "#num_patients = 23292\n",
    "#num_leads = 8\n",
    "#num_time_points = 5000"
   ]
  },
  {
   "cell_type": "code",
   "execution_count": 19,
   "id": "e74a29ea-6b8c-4b0c-bfb2-f1ed28099ee4",
   "metadata": {},
   "outputs": [],
   "source": [
    "#np.random.seed(42)\n",
    "#ecg_data = np.random.randn(num_patients, num_leads, num_time_points)\n",
    "#labels = np.random.randint(0, 3, size=num_patients)"
   ]
  },
  {
   "cell_type": "code",
   "execution_count": 20,
   "id": "85b12fe7-a437-4beb-b06b-60ca2fa4673f",
   "metadata": {},
   "outputs": [],
   "source": []
  },
  {
   "cell_type": "code",
   "execution_count": 21,
   "id": "d900bb2c-72d4-48f3-90ec-bb8b42b09301",
   "metadata": {},
   "outputs": [],
   "source": [
    "# Function to extract features from each lead\n",
    "def extract_features(lead):\n",
    "    # 1. Statistical Features\n",
    "    mean_value = np.mean(lead)\n",
    "#    print('mean_value :', mean_value)\n",
    "    median_value = np.median(lead)\n",
    "#    print('median_value :', median_value)\n",
    "    std_dev_value = np.std(lead)\n",
    "#    print('std_dev_value :', std_dev_value)\n",
    "    skewness_value = skew(lead)\n",
    "#    print('skewness_value :', skewness_value)\n",
    "    kurtosis_value = kurtosis(lead)\n",
    "#    print('kurtosis_value :', kurtosis_value)\n",
    "\n",
    "    # 2. Time-Domain Features\n",
    "    # You might need to preprocess the data to find R-peaks for RR interval calculations\n",
    "    # Example using biosppy\n",
    "    rpeaks = ecg.ecg(lead, sampling_rate=500, show=False)['rpeaks']\n",
    "   # _, rpeaks = ecg.ecg(lead, sampling_rate=500, show=False)\n",
    "#    print(\"YES\")\n",
    "    rr_interval = np.diff(rpeaks)\n",
    "\n",
    "    # Calculate features from RR intervals\n",
    "    rr_mean = np.mean(rr_interval)\n",
    "#    print('rr_mean :', rr_mean)    \n",
    "    heart_rate = 60 / rr_mean\n",
    "\n",
    "    # 3. Frequency-Domain Features\n",
    "    #power_spectral_density (psd) shape is (num_time_points // 2 + 1)\n",
    "    f, psd = signal.welch(lead, fs=500)\n",
    "    dominant_frequency = f[np.argmax(psd)]\n",
    "#    print('dominant_frequency :', dominant_frequency)\n",
    "    spectral_entropy = -np.sum(psd * np.log2(psd + 1e-10))\n",
    "#    print('spectral_entropy :', spectral_entropy)\n",
    "    \n",
    "    # 4. Wavelet Transform (using PyWavelets library)\n",
    "    # Wavelet Transform Features\n",
    "#    coeffs = pywt.wavedec(lead, 'db1', level=4)\n",
    "#    print('coeffs :', coeffs)    \n",
    "\n",
    "    # Combine all features into a single array\n",
    "    extracted_features = np.array([\n",
    "        mean_value, median_value, std_dev_value, skewness_value, kurtosis_value,\n",
    "        rr_mean, heart_rate, dominant_frequency, spectral_entropy\n",
    "#        *coeffs[0], *coeffs[1], *coeffs[2], *coeffs[3]\n",
    "    ])\n",
    "\n",
    "    return extracted_features\n",
    "\n",
    "#    (cA, cD) = pywt.dwt(lead, 'db1')\n",
    "\n",
    "    # 5. Heart Rate Variability Features\n",
    "    # Already calculated RR intervals, you can extract various features from them\n",
    "\n",
    "    # 6. Dynamical Features\n",
    "    # You might need a dynamic model or use dynamic time warping techniques\n",
    "\n",
    "    # 7. Deep Learning Representations\n",
    "    # Use pre-trained models or train your own CNN/RNN on ECG data\n",
    "\n",
    "    # 8. Principal Component Analysis (PCA)\n",
    "#    from sklearn.decomposition import PCA\n",
    "\n",
    "#    flattened_data = np.reshape(ecg_data, (num_patients, -1))\n",
    "#    pca = PCA(n_components=10)  # Adjust the number of components\n",
    "#    pca_features = pca.fit_transform(flattened_data)\n",
    "    \n",
    "    # 9. Cross-Lead Features\n",
    "#    lead_correlations = np.zeros((num_patients, num_leads, num_leads))\n",
    "#    for i in range(num_patients):\n",
    "#        for j in range(num_leads):\n",
    "#            for k in range(num_leads):\n",
    "#                lead_correlations[i, j, k] = np.corrcoef(ecg_data[i, j, :], ecg_data[i, k, :])[0, 1]"
   ]
  },
  {
   "cell_type": "code",
   "execution_count": 22,
   "id": "834543da-b11b-48dd-8aae-d8fcb1ba3d99",
   "metadata": {},
   "outputs": [
    {
     "name": "stdout",
     "output_type": "stream",
     "text": [
      "9\n"
     ]
    }
   ],
   "source": [
    "num_features = len(extract_features(ecg_data[0, 0, :]))\n",
    "print(num_features)"
   ]
  },
  {
   "cell_type": "code",
   "execution_count": 23,
   "id": "804ffb55-abd4-49e9-9b19-0bcaf8303c99",
   "metadata": {},
   "outputs": [],
   "source": [
    "# Initialize an empty array to store features for each patient\n",
    "num_features = len(extract_features(ecg_data[0, 0, :]))\n",
    "patient_features = np.zeros((num_patients, num_features * num_leads))"
   ]
  },
  {
   "cell_type": "code",
   "execution_count": 35,
   "id": "a4a19cff-b54c-4425-a24c-c6fc2dc28274",
   "metadata": {},
   "outputs": [
    {
     "name": "stderr",
     "output_type": "stream",
     "text": [
      "100%|██████████████████████████████████████████████████████████████████████████████████| 88/88 [00:06<00:00, 14.55it/s]\n"
     ]
    }
   ],
   "source": [
    "# Apply feature extraction for each lead and concatenate features for each patient\n",
    "for patient_index in tqdm(range(23204, num_patients)):\n",
    "    if(patient_index in [370, 899, 4733, 4936, 5404, 8354, 9146, 9560, 10268, 10879, 11915, 12946, 13441, 14674, 15413, 15702, 16190, 22258, 23204]):\n",
    "        patient_features[patient_index, :] = np.zeros((num_leads, num_features)).flatten()\n",
    "        continue\n",
    "    patient_lead_features = np.zeros((num_leads, num_features))\n",
    "    \n",
    "    for lead_index in range(num_leads):\n",
    "        patient_lead_features[lead_index, :] = extract_features(ecg_data[patient_index, lead_index, :])\n",
    "    \n",
    "    # Concatenate features for the current patient\n",
    "    patient_features[patient_index, :] = patient_lead_features.flatten()"
   ]
  },
  {
   "cell_type": "code",
   "execution_count": 37,
   "id": "4ffa8b12-1aa8-4526-ae15-b506d9e579a3",
   "metadata": {},
   "outputs": [
    {
     "data": {
      "text/plain": [
       "(23292, 72)"
      ]
     },
     "execution_count": 37,
     "metadata": {},
     "output_type": "execute_result"
    }
   ],
   "source": [
    "patient_features.shape"
   ]
  },
  {
   "cell_type": "code",
   "execution_count": 38,
   "id": "558919b1-de4a-4fed-9f79-a2503ef36902",
   "metadata": {},
   "outputs": [],
   "source": [
    "y = labels"
   ]
  },
  {
   "cell_type": "code",
   "execution_count": 39,
   "id": "112bc99e-15cb-4ca7-89b9-beb7362efd87",
   "metadata": {},
   "outputs": [
    {
     "data": {
      "text/plain": [
       "(23292,)"
      ]
     },
     "execution_count": 39,
     "metadata": {},
     "output_type": "execute_result"
    }
   ],
   "source": [
    "y.shape"
   ]
  },
  {
   "cell_type": "code",
   "execution_count": 42,
   "id": "a1bb750f-be35-4ede-859b-95c9528d44a3",
   "metadata": {},
   "outputs": [],
   "source": [
    "# Assuming patient_features is your 2D array of features (patients x features)\n",
    "# Assuming y is your target labels\n",
    "\n",
    "# Split the data into training and testing sets\n",
    "X_train, X_test, y_train, y_test = train_test_split(patient_features, y, test_size=0.2, random_state=42)"
   ]
  },
  {
   "cell_type": "code",
   "execution_count": 43,
   "id": "096f06bd-5638-4a60-9f16-1751dccba503",
   "metadata": {},
   "outputs": [],
   "source": [
    "#from sklearn.utils.class_weight import compute_sample_weight"
   ]
  },
  {
   "cell_type": "code",
   "execution_count": 44,
   "id": "76f9f1be-0e18-478e-9621-a799b10eaf64",
   "metadata": {},
   "outputs": [],
   "source": [
    "unique_classes = np.unique(y_train)"
   ]
  },
  {
   "cell_type": "code",
   "execution_count": 45,
   "id": "1a07cba2-7d72-4430-b172-618ada6b013b",
   "metadata": {},
   "outputs": [
    {
     "data": {
      "text/plain": [
       "array([0, 1, 2])"
      ]
     },
     "execution_count": 45,
     "metadata": {},
     "output_type": "execute_result"
    }
   ],
   "source": [
    "unique_classes"
   ]
  },
  {
   "cell_type": "code",
   "execution_count": 40,
   "id": "fe84a8db-2c30-40e1-8f31-b757e05a9ff9",
   "metadata": {},
   "outputs": [],
   "source": [
    "#class_weights = compute_sample_weight(class_weight='balanced', y=y_train)"
   ]
  },
  {
   "cell_type": "code",
   "execution_count": 41,
   "id": "2b6f54ee-3bb7-41a7-b7ce-8cdb2dff9792",
   "metadata": {},
   "outputs": [],
   "source": [
    "#class_weights"
   ]
  },
  {
   "cell_type": "code",
   "execution_count": 42,
   "id": "9011c55a-0729-41d1-afa9-ab8024808d62",
   "metadata": {},
   "outputs": [],
   "source": [
    "#class_weights.shape"
   ]
  },
  {
   "cell_type": "code",
   "execution_count": 46,
   "id": "616e943d-1133-4c29-a8d3-622c23322fea",
   "metadata": {},
   "outputs": [
    {
     "data": {
      "text/plain": [
       "(23292, 72)"
      ]
     },
     "execution_count": 46,
     "metadata": {},
     "output_type": "execute_result"
    }
   ],
   "source": [
    "patient_features.shape"
   ]
  },
  {
   "cell_type": "code",
   "execution_count": 47,
   "id": "fc18d588-5f1c-4cf8-ba6a-0ac8a80e07c6",
   "metadata": {},
   "outputs": [],
   "source": [
    "# Standardize the features\n",
    "scaler = StandardScaler()\n",
    "X_train_scaled = scaler.fit_transform(X_train)\n",
    "X_test_scaled = scaler.transform(X_test)"
   ]
  },
  {
   "cell_type": "code",
   "execution_count": 50,
   "id": "7f4d2a22-fdc6-447e-a45c-6058a621de15",
   "metadata": {},
   "outputs": [],
   "source": [
    "# Class proportions\n",
    "p1 = 0.61\n",
    "p2 = 0.29\n",
    "p3 = 0.1"
   ]
  },
  {
   "cell_type": "code",
   "execution_count": 52,
   "id": "319ac683-8094-4ae5-a9de-cfca9a5a886a",
   "metadata": {},
   "outputs": [],
   "source": [
    "# Calculate weights\n",
    "w1 = 1 / p1\n",
    "w2 = 1 / p2 + 0.2\n",
    "w3 = 1 / p3 + 1 "
   ]
  },
  {
   "cell_type": "code",
   "execution_count": 53,
   "id": "34e86c8c-5642-41f5-89ab-467e3656a3c9",
   "metadata": {},
   "outputs": [],
   "source": [
    "# Normalize weights\n",
    "sum_weights = w1 + w2 + w3\n",
    "normalized_w1 = w1 / sum_weights\n",
    "normalized_w2 = w2 / sum_weights\n",
    "normalized_w3 = w3 / sum_weights"
   ]
  },
  {
   "cell_type": "code",
   "execution_count": 59,
   "id": "2c0f47bf-d402-437e-99b0-2a58387fb305",
   "metadata": {},
   "outputs": [
    {
     "data": {
      "text/html": [
       "<style>#sk-container-id-2 {color: black;background-color: white;}#sk-container-id-2 pre{padding: 0;}#sk-container-id-2 div.sk-toggleable {background-color: white;}#sk-container-id-2 label.sk-toggleable__label {cursor: pointer;display: block;width: 100%;margin-bottom: 0;padding: 0.3em;box-sizing: border-box;text-align: center;}#sk-container-id-2 label.sk-toggleable__label-arrow:before {content: \"▸\";float: left;margin-right: 0.25em;color: #696969;}#sk-container-id-2 label.sk-toggleable__label-arrow:hover:before {color: black;}#sk-container-id-2 div.sk-estimator:hover label.sk-toggleable__label-arrow:before {color: black;}#sk-container-id-2 div.sk-toggleable__content {max-height: 0;max-width: 0;overflow: hidden;text-align: left;background-color: #f0f8ff;}#sk-container-id-2 div.sk-toggleable__content pre {margin: 0.2em;color: black;border-radius: 0.25em;background-color: #f0f8ff;}#sk-container-id-2 input.sk-toggleable__control:checked~div.sk-toggleable__content {max-height: 200px;max-width: 100%;overflow: auto;}#sk-container-id-2 input.sk-toggleable__control:checked~label.sk-toggleable__label-arrow:before {content: \"▾\";}#sk-container-id-2 div.sk-estimator input.sk-toggleable__control:checked~label.sk-toggleable__label {background-color: #d4ebff;}#sk-container-id-2 div.sk-label input.sk-toggleable__control:checked~label.sk-toggleable__label {background-color: #d4ebff;}#sk-container-id-2 input.sk-hidden--visually {border: 0;clip: rect(1px 1px 1px 1px);clip: rect(1px, 1px, 1px, 1px);height: 1px;margin: -1px;overflow: hidden;padding: 0;position: absolute;width: 1px;}#sk-container-id-2 div.sk-estimator {font-family: monospace;background-color: #f0f8ff;border: 1px dotted black;border-radius: 0.25em;box-sizing: border-box;margin-bottom: 0.5em;}#sk-container-id-2 div.sk-estimator:hover {background-color: #d4ebff;}#sk-container-id-2 div.sk-parallel-item::after {content: \"\";width: 100%;border-bottom: 1px solid gray;flex-grow: 1;}#sk-container-id-2 div.sk-label:hover label.sk-toggleable__label {background-color: #d4ebff;}#sk-container-id-2 div.sk-serial::before {content: \"\";position: absolute;border-left: 1px solid gray;box-sizing: border-box;top: 0;bottom: 0;left: 50%;z-index: 0;}#sk-container-id-2 div.sk-serial {display: flex;flex-direction: column;align-items: center;background-color: white;padding-right: 0.2em;padding-left: 0.2em;position: relative;}#sk-container-id-2 div.sk-item {position: relative;z-index: 1;}#sk-container-id-2 div.sk-parallel {display: flex;align-items: stretch;justify-content: center;background-color: white;position: relative;}#sk-container-id-2 div.sk-item::before, #sk-container-id-2 div.sk-parallel-item::before {content: \"\";position: absolute;border-left: 1px solid gray;box-sizing: border-box;top: 0;bottom: 0;left: 50%;z-index: -1;}#sk-container-id-2 div.sk-parallel-item {display: flex;flex-direction: column;z-index: 1;position: relative;background-color: white;}#sk-container-id-2 div.sk-parallel-item:first-child::after {align-self: flex-end;width: 50%;}#sk-container-id-2 div.sk-parallel-item:last-child::after {align-self: flex-start;width: 50%;}#sk-container-id-2 div.sk-parallel-item:only-child::after {width: 0;}#sk-container-id-2 div.sk-dashed-wrapped {border: 1px dashed gray;margin: 0 0.4em 0.5em 0.4em;box-sizing: border-box;padding-bottom: 0.4em;background-color: white;}#sk-container-id-2 div.sk-label label {font-family: monospace;font-weight: bold;display: inline-block;line-height: 1.2em;}#sk-container-id-2 div.sk-label-container {text-align: center;}#sk-container-id-2 div.sk-container {/* jupyter's `normalize.less` sets `[hidden] { display: none; }` but bootstrap.min.css set `[hidden] { display: none !important; }` so we also need the `!important` here to be able to override the default hidden behavior on the sphinx rendered scikit-learn.org. See: https://github.com/scikit-learn/scikit-learn/issues/21755 */display: inline-block !important;position: relative;}#sk-container-id-2 div.sk-text-repr-fallback {display: none;}</style><div id=\"sk-container-id-2\" class=\"sk-top-container\"><div class=\"sk-text-repr-fallback\"><pre>RandomForestClassifier(class_weight={0: 0.0001, 1: 0.0009, 2: 0.999},\n",
       "                       n_estimators=200, random_state=42)</pre><b>In a Jupyter environment, please rerun this cell to show the HTML representation or trust the notebook. <br />On GitHub, the HTML representation is unable to render, please try loading this page with nbviewer.org.</b></div><div class=\"sk-container\" hidden><div class=\"sk-item\"><div class=\"sk-estimator sk-toggleable\"><input class=\"sk-toggleable__control sk-hidden--visually\" id=\"sk-estimator-id-2\" type=\"checkbox\" checked><label for=\"sk-estimator-id-2\" class=\"sk-toggleable__label sk-toggleable__label-arrow\">RandomForestClassifier</label><div class=\"sk-toggleable__content\"><pre>RandomForestClassifier(class_weight={0: 0.0001, 1: 0.0009, 2: 0.999},\n",
       "                       n_estimators=200, random_state=42)</pre></div></div></div></div></div>"
      ],
      "text/plain": [
       "RandomForestClassifier(class_weight={0: 0.0001, 1: 0.0009, 2: 0.999},\n",
       "                       n_estimators=200, random_state=42)"
      ]
     },
     "execution_count": 59,
     "metadata": {},
     "output_type": "execute_result"
    }
   ],
   "source": [
    "# Train a Random Forest classifier\n",
    "rf_classifier = RandomForestClassifier(class_weight = {0:0.0001, 1:0.0009, 2:1-0.001}, n_estimators=200, random_state=42)\n",
    "rf_classifier.fit(X_train_scaled, y_train)"
   ]
  },
  {
   "cell_type": "code",
   "execution_count": 60,
   "id": "abdddfcf-6508-45a9-97b2-08699461ddc9",
   "metadata": {},
   "outputs": [],
   "source": [
    "# Make predictions on the test set\n",
    "y_pred = rf_classifier.predict(X_test_scaled)"
   ]
  },
  {
   "cell_type": "code",
   "execution_count": 61,
   "id": "a7b30feb-0c30-453c-a632-907b074a4e31",
   "metadata": {},
   "outputs": [],
   "source": [
    "# Evaluate the model\n",
    "accuracy = accuracy_score(y_test, y_pred)\n",
    "report = classification_report(y_test, y_pred)"
   ]
  },
  {
   "cell_type": "code",
   "execution_count": 62,
   "id": "373c45c1-a351-442d-b595-54f232cbbcec",
   "metadata": {},
   "outputs": [
    {
     "name": "stdout",
     "output_type": "stream",
     "text": [
      "Accuracy: 0.40673964370036486\n",
      "Classification Report:\n",
      "               precision    recall  f1-score   support\n",
      "\n",
      "           0       0.62      0.53      0.57      2839\n",
      "           1       0.62      0.14      0.23      1366\n",
      "           2       0.11      0.45      0.17       454\n",
      "\n",
      "    accuracy                           0.41      4659\n",
      "   macro avg       0.45      0.37      0.32      4659\n",
      "weighted avg       0.57      0.41      0.43      4659\n",
      "\n"
     ]
    }
   ],
   "source": [
    "print(\"Accuracy:\", accuracy)\n",
    "print(\"Classification Report:\\n\", report)"
   ]
  },
  {
   "cell_type": "code",
   "execution_count": null,
   "id": "0da23989-9ab2-4341-a867-9c69df0f33cc",
   "metadata": {},
   "outputs": [],
   "source": []
  },
  {
   "cell_type": "code",
   "execution_count": 58,
   "id": "5c1ef597-5bcc-430d-9423-b862f54abf4a",
   "metadata": {},
   "outputs": [
    {
     "data": {
      "text/plain": [
       "23292"
      ]
     },
     "execution_count": 58,
     "metadata": {},
     "output_type": "execute_result"
    }
   ],
   "source": [
    "len(y)"
   ]
  },
  {
   "cell_type": "code",
   "execution_count": null,
   "id": "add23208-f509-4987-97ff-dec9f55caa7a",
   "metadata": {},
   "outputs": [],
   "source": []
  },
  {
   "cell_type": "code",
   "execution_count": null,
   "id": "4eddabdd-5a19-4ef6-98af-cdb628126547",
   "metadata": {},
   "outputs": [],
   "source": [
    "count = np.count_nonzero(y == 0)\n",
    "count / len(y)"
   ]
  },
  {
   "cell_type": "code",
   "execution_count": null,
   "id": "b5c095c5-a0dc-4cb5-88fb-25876f4edcd5",
   "metadata": {},
   "outputs": [],
   "source": [
    "count = np.count_nonzero(y == 1)\n",
    "count / len(y)"
   ]
  },
  {
   "cell_type": "code",
   "execution_count": null,
   "id": "16f5cbb2-854b-4f23-9ecf-92d2463ac2a0",
   "metadata": {},
   "outputs": [],
   "source": [
    "count = np.count_nonzero(y == 2)\n",
    "count / len(y)"
   ]
  },
  {
   "cell_type": "code",
   "execution_count": null,
   "id": "f7406940-9cfc-4706-9124-b57cdabacf6b",
   "metadata": {},
   "outputs": [],
   "source": []
  }
 ],
 "metadata": {
  "kernelspec": {
   "display_name": "Python 3 (ipykernel)",
   "language": "python",
   "name": "python3"
  },
  "language_info": {
   "codemirror_mode": {
    "name": "ipython",
    "version": 3
   },
   "file_extension": ".py",
   "mimetype": "text/x-python",
   "name": "python",
   "nbconvert_exporter": "python",
   "pygments_lexer": "ipython3",
   "version": "3.11.5"
  }
 },
 "nbformat": 4,
 "nbformat_minor": 5
}
