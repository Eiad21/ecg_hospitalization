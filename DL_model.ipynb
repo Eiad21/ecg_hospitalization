{
 "cells": [
  {
   "cell_type": "code",
   "execution_count": 1,
   "id": "01b77fbb-5ee4-453d-af49-e5ba9b3138bb",
   "metadata": {},
   "outputs": [
    {
     "name": "stdout",
     "output_type": "stream",
     "text": [
      "WARNING:tensorflow:From C:\\Users\\Iskndranii\\anaconda3\\envs\\e_hc_h\\Lib\\site-packages\\keras\\src\\losses.py:2976: The name tf.losses.sparse_softmax_cross_entropy is deprecated. Please use tf.compat.v1.losses.sparse_softmax_cross_entropy instead.\n",
      "\n"
     ]
    }
   ],
   "source": [
    "import numpy as np\n",
    "from sklearn.model_selection import train_test_split\n",
    "from sklearn.preprocessing import LabelEncoder\n",
    "from tensorflow.keras.models import Sequential\n",
    "from tensorflow.keras.layers import Conv1D, MaxPooling1D, Flatten, Dense, LSTM, BatchNormalization, Dropout\n",
    "from tensorflow.keras.utils import to_categorical\n",
    "from tensorflow.keras.optimizers import Adam\n",
    "from tensorflow.keras.callbacks import EarlyStopping\n",
    "import pandas as pd\n",
    "from tqdm import tqdm\n"
   ]
  },
  {
   "cell_type": "code",
   "execution_count": 81,
   "id": "ba113398-bcba-4614-872c-a5ce55989589",
   "metadata": {},
   "outputs": [],
   "source": [
    "import librosa"
   ]
  },
  {
   "cell_type": "code",
   "execution_count": 2,
   "id": "76b7297a-7ce1-4c0f-9b33-0d967d1c1f11",
   "metadata": {},
   "outputs": [],
   "source": [
    "# Load the CSV file into a DataFrame\n",
    "csv_path = 'D:\\Omar\\Friends\\European_HealthCare_Hackathon\\ecg_hospitalization\\data\\processed\\meta\\data_pairs.csv'  # Replace with the path to your CSV file\n",
    "df = pd.read_csv(csv_path)"
   ]
  },
  {
   "cell_type": "code",
   "execution_count": 3,
   "id": "49720c5e-5e18-4541-827a-8aca0f9ad157",
   "metadata": {},
   "outputs": [],
   "source": [
    "# Initialize empty lists to store data\n",
    "data_list = []\n",
    "labels_list = []"
   ]
  },
  {
   "cell_type": "code",
   "execution_count": 4,
   "id": "ad193954-03e9-4f38-ad96-22d1fbefb660",
   "metadata": {},
   "outputs": [
    {
     "name": "stderr",
     "output_type": "stream",
     "text": [
      "23292it [08:30, 45.61it/s] \n"
     ]
    }
   ],
   "source": [
    "# Iterate through rows and load .npy files\n",
    "for index, row in tqdm(df.iterrows()):\n",
    "    file_path = row['np_file_path']\n",
    "    label = row['label']\n",
    "\n",
    "    # Load the .npy file\n",
    "    loaded_data = np.load(file_path)\n",
    "\n",
    "    # Append the loaded data and label to the lists\n",
    "    data_list.append(loaded_data)\n",
    "    labels_list.append(label)"
   ]
  },
  {
   "cell_type": "code",
   "execution_count": 5,
   "id": "c6931334-0e1a-4d17-b336-127cef700706",
   "metadata": {},
   "outputs": [],
   "source": [
    "# Convert lists to NumPy arrays\n",
    "data_array = np.array(data_list)\n",
    "labels_array = np.array(labels_list)"
   ]
  },
  {
   "cell_type": "code",
   "execution_count": 6,
   "id": "d59654f0-9e21-4ab4-ab25-8f509c116af5",
   "metadata": {},
   "outputs": [
    {
     "name": "stdout",
     "output_type": "stream",
     "text": [
      "Data Array Shape: (23292, 8, 5000)\n",
      "Labels Array Shape: (23292,)\n"
     ]
    }
   ],
   "source": [
    "# Print shapes for verification\n",
    "print(\"Data Array Shape:\", data_array.shape)\n",
    "print(\"Labels Array Shape:\", labels_array.shape)"
   ]
  },
  {
   "cell_type": "code",
   "execution_count": 7,
   "id": "7ee262a8-1471-4da2-963f-5630b88546d2",
   "metadata": {},
   "outputs": [],
   "source": [
    "indices_with_nans = [370, 899, 4733, 4936, 5404, 8354, 9146, 9560, 10268, 10879, 11915, 12946, 13441, 14674, 15413, 15702, 16190, 22258, 23204]"
   ]
  },
  {
   "cell_type": "code",
   "execution_count": 8,
   "id": "632240cd-8be7-48e3-9f38-295ac0cfa7af",
   "metadata": {},
   "outputs": [],
   "source": [
    "data_array = data_array[np.logical_not(np.isin(np.arange(len(data_array)), indices_with_nans))]"
   ]
  },
  {
   "cell_type": "code",
   "execution_count": 9,
   "id": "3aabbc16-1f55-4835-8f80-4aaa0a084f9f",
   "metadata": {},
   "outputs": [],
   "source": [
    "labels_array = labels_array[np.logical_not(np.isin(np.arange(len(labels_array)), indices_with_nans))]"
   ]
  },
  {
   "cell_type": "code",
   "execution_count": 10,
   "id": "f8ad672d-b27a-4f84-a439-e0c92669ed97",
   "metadata": {},
   "outputs": [],
   "source": [
    "num_patients, num_leads, num_time_points = data_array.shape"
   ]
  },
  {
   "cell_type": "code",
   "execution_count": 11,
   "id": "1d266989-79fc-4c09-8c96-a5464b6f4a77",
   "metadata": {},
   "outputs": [],
   "source": [
    "ecg_data = data_array\n",
    "labels = labels_array"
   ]
  },
  {
   "cell_type": "code",
   "execution_count": 12,
   "id": "6957726b-07f9-4fa4-96cc-7a21d105aaa1",
   "metadata": {},
   "outputs": [],
   "source": [
    "# Set seed for reproducibility\n",
    "np.random.seed(42)"
   ]
  },
  {
   "cell_type": "code",
   "execution_count": 13,
   "id": "98a47445-6daa-4da1-b23e-2c582ff22d5d",
   "metadata": {},
   "outputs": [],
   "source": [
    "# Generate random indices for shuffling\n",
    "indices = np.arange(len(labels))\n",
    "np.random.shuffle(indices)"
   ]
  },
  {
   "cell_type": "code",
   "execution_count": 14,
   "id": "7b4f3f17-1c46-4dca-b685-fd64300a1d9d",
   "metadata": {},
   "outputs": [],
   "source": [
    "# Shuffle ecg_data and labels using the generated indices\n",
    "ecg_data_shuffled = ecg_data[indices]\n",
    "labels_shuffled = labels[indices]"
   ]
  },
  {
   "cell_type": "code",
   "execution_count": 15,
   "id": "6fe7c61b-9928-4590-92fd-2107c7155dfb",
   "metadata": {},
   "outputs": [],
   "source": [
    "# To be moved up\n",
    "from scipy.stats import skew, kurtosis\n",
    "from scipy import signal\n",
    "from scipy.fft import fft\n",
    "from biosppy.signals import ecg  # Biosppy is a library for biosignal processing\n",
    "import pywt\n",
    "from sklearn.ensemble import RandomForestClassifier\n",
    "from sklearn.metrics import accuracy_score, classification_report\n",
    "from sklearn.preprocessing import StandardScaler"
   ]
  },
  {
   "cell_type": "code",
   "execution_count": 106,
   "id": "72b683d6-a9c3-4951-aaad-631292031322",
   "metadata": {},
   "outputs": [],
   "source": [
    "from python_speech_features import mfcc"
   ]
  },
  {
   "cell_type": "code",
   "execution_count": 128,
   "id": "501838d0-fc04-4157-9daf-e194a8cf0c3f",
   "metadata": {},
   "outputs": [],
   "source": [
    "# For the classical models\n",
    "\n",
    "# Function to extract features from each lead\n",
    "def extract_features(lead):\n",
    "    # 1. Statistical Features\n",
    "    mean_value = np.mean(lead)\n",
    "    median_value = np.median(lead)\n",
    "    std_dev_value = np.std(lead)\n",
    "    skewness_value = skew(lead)\n",
    "    kurtosis_value = kurtosis(lead)\n",
    "\n",
    "    # 2. Time-Domain Features\n",
    "    # You might need to preprocess the data to find R-peaks for RR interval calculations\n",
    "    # Example using biosppy\n",
    "    rpeaks = ecg.ecg(lead, sampling_rate=500, show=False)['rpeaks']\n",
    "    rr_interval = np.diff(rpeaks)\n",
    "\n",
    "    # Calculate features from RR intervals\n",
    "    rr_mean = np.mean(rr_interval)  \n",
    "    heart_rate = 60 / rr_mean\n",
    "\n",
    "    # 3. Frequency-Domain Features\n",
    "    #power_spectral_density (psd) shape is (num_time_points // 2 + 1)\n",
    "    f, psd = signal.welch(lead, fs=500)\n",
    "    dominant_frequency = f[np.argmax(psd)]\n",
    "    spectral_entropy = -np.sum(psd * np.log2(psd + 1e-10))\n",
    "    \n",
    "    # Combine all features into a single array\n",
    "    initial_features = [\n",
    "        mean_value, median_value, std_dev_value, skewness_value, kurtosis_value,\n",
    "        rr_mean, heart_rate, dominant_frequency, spectral_entropy, \n",
    "    ]\n",
    "\n",
    "    n_mfcc=13\n",
    "#    len_of_signal = lead.shape[0]\n",
    "#    hop_len = len_of_signal // n_mfcc\n",
    "#    mfcc = librosa.feature.mfcc(y=lead, sr=500, n_mfcc=n_mfcc, hop_length=hop_len)\n",
    "#    mfcc = mfcc.flatten()\n",
    "    # Calculate MFCC features\n",
    "    mfcc_features = mfcc(signal=lead, samplerate=500, numcep=n_mfcc)\n",
    "    mfcc_features = np.mean(mfcc_features, axis=0)\n",
    "\n",
    "    initial_features.extend(mfcc_features.tolist())\n",
    "    extracted_features = np.array(initial_features)\n",
    "\n",
    "\n",
    "    \n",
    "    return extracted_features"
   ]
  },
  {
   "cell_type": "code",
   "execution_count": 129,
   "id": "ea6e3322-b7c3-4620-b94e-200be41bb2d1",
   "metadata": {},
   "outputs": [],
   "source": [
    "num_features = len(extract_features(ecg_data[0, 0, :]))"
   ]
  },
  {
   "cell_type": "code",
   "execution_count": 130,
   "id": "7845730b-b1a2-4cf4-befa-49c7b748e836",
   "metadata": {},
   "outputs": [],
   "source": [
    "patient_features = np.zeros((num_patients, num_features * num_leads))"
   ]
  },
  {
   "cell_type": "code",
   "execution_count": 131,
   "id": "72f34b2d-a7dd-42e8-a5c3-b9082e5d9f39",
   "metadata": {},
   "outputs": [
    {
     "name": "stderr",
     "output_type": "stream",
     "text": [
      "100%|████████████████████████████████████████████████████████████████████████████| 23273/23273 [53:35<00:00,  7.24it/s]\n"
     ]
    }
   ],
   "source": [
    "# Apply feature extraction for each lead and concatenate features for each patient\n",
    "for patient_index in tqdm(range(num_patients)):\n",
    "    patient_lead_features = np.zeros((num_leads, num_features))\n",
    "    \n",
    "    for lead_index in range(num_leads):\n",
    "        patient_lead_features[lead_index, :] = extract_features(ecg_data[patient_index, lead_index, :])\n",
    "    \n",
    "    # Concatenate features for the current patient\n",
    "    patient_features[patient_index, :] = patient_lead_features.flatten()\n",
    "\n",
    "\n",
    "############## consider try - catch #######################"
   ]
  },
  {
   "cell_type": "code",
   "execution_count": 209,
   "id": "d6947be9-e125-4b8b-8a9d-79fd5b3d77f2",
   "metadata": {},
   "outputs": [
    {
     "data": {
      "text/plain": [
       "(23273, 176)"
      ]
     },
     "execution_count": 209,
     "metadata": {},
     "output_type": "execute_result"
    }
   ],
   "source": [
    "patient_features.shape"
   ]
  },
  {
   "cell_type": "code",
   "execution_count": 210,
   "id": "b1c48222-3c2d-4be9-922d-506dcd08d25a",
   "metadata": {},
   "outputs": [
    {
     "data": {
      "text/plain": [
       "(23273, 8, 5000)"
      ]
     },
     "execution_count": 210,
     "metadata": {},
     "output_type": "execute_result"
    }
   ],
   "source": [
    "ecg_data.shape"
   ]
  },
  {
   "cell_type": "code",
   "execution_count": 211,
   "id": "bffeaafa-7696-4093-bea5-fce18cd7d3d4",
   "metadata": {},
   "outputs": [
    {
     "data": {
      "text/plain": [
       "(23273,)"
      ]
     },
     "execution_count": 211,
     "metadata": {},
     "output_type": "execute_result"
    }
   ],
   "source": [
    "labels.shape"
   ]
  },
  {
   "cell_type": "code",
   "execution_count": 212,
   "id": "9add3c6a-3eb2-4dd2-af56-e6d2781e3d10",
   "metadata": {},
   "outputs": [],
   "source": [
    "X_classical = patient_features"
   ]
  },
  {
   "cell_type": "code",
   "execution_count": 213,
   "id": "33d79698-365f-403a-8fce-d51ec8c07206",
   "metadata": {},
   "outputs": [],
   "source": [
    "X_deep = ecg_data"
   ]
  },
  {
   "cell_type": "code",
   "execution_count": 214,
   "id": "fe74c204-55dc-4d83-8beb-47a79059ab98",
   "metadata": {},
   "outputs": [],
   "source": [
    "# Split the data into training and testing sets\n",
    "X_train_classical, X_test_classical, y_train_classical, y_test_classical = train_test_split(X_classical, labels, test_size=0.2, random_state=42)\n",
    "X_train_deep, X_test_deep, y_train_deep, y_test_deep = train_test_split(ecg_data, labels, test_size=0.2, random_state=42)"
   ]
  },
  {
   "cell_type": "code",
   "execution_count": 39,
   "id": "0813d9f8-c5c5-4bbc-a17e-1e143a350ea6",
   "metadata": {},
   "outputs": [],
   "source": [
    "for i in range(len(y_train_classical)):\n",
    "    if(y_train_classical[i] != y_train_deep[i]):\n",
    "        Print(\"WRONG SPLITTING!!!!!!!!!!!  TRAIN\")\n",
    "\n",
    "for i in range(len(y_test_classical)):\n",
    "    if(y_test_classical[i] != y_test_deep[i]):\n",
    "        Print(\"WRONG SPLITTING!!!!!!!!!!!   TESTTTTTTTTTT\")"
   ]
  },
  {
   "cell_type": "code",
   "execution_count": 215,
   "id": "3900bdfd-8976-428a-8a17-65dbfb4468c8",
   "metadata": {},
   "outputs": [],
   "source": [
    "############################################ DEEP ###############################################"
   ]
  },
  {
   "cell_type": "code",
   "execution_count": 216,
   "id": "95a4e3a6-6b4a-4cbd-bde8-3af866746d1b",
   "metadata": {},
   "outputs": [],
   "source": [
    "# Build the CNN combined with RNN model\n",
    "model = Sequential()\n",
    "model.add(Conv1D(filters=64, kernel_size=5, activation='relu', input_shape=(8, 5000)))\n",
    "model.add(MaxPooling1D(pool_size=2))\n",
    "model.add(BatchNormalization())\n",
    "model.add(LSTM(128, activation='relu', return_sequences=True))\n",
    "model.add(Dropout(0.2))\n",
    "model.add(LSTM(128, activation='relu'))\n",
    "model.add(Dense(64, activation='relu'))\n",
    "model.add(Dense(3, activation='softmax'))  # Assuming 3 output classes"
   ]
  },
  {
   "cell_type": "code",
   "execution_count": 217,
   "id": "bb5292c9-97ef-4d00-bcc7-8fbc9d27200b",
   "metadata": {},
   "outputs": [],
   "source": [
    "optimizer = Adam(learning_rate=0.001)"
   ]
  },
  {
   "cell_type": "code",
   "execution_count": 218,
   "id": "dcdfc1d7-2d47-4e55-8c79-fc50101f860f",
   "metadata": {},
   "outputs": [],
   "source": [
    "batch_size = 32"
   ]
  },
  {
   "cell_type": "code",
   "execution_count": 219,
   "id": "c75aed89-b025-4010-9cfa-633d476b46e1",
   "metadata": {},
   "outputs": [],
   "source": [
    "# Implement early stopping based on validation loss\n",
    "early_stopping = EarlyStopping(monitor='val_loss', patience=10, restore_best_weights=True)"
   ]
  },
  {
   "cell_type": "code",
   "execution_count": 220,
   "id": "569c7b9c-a696-4b8d-bd53-b0e70b26f342",
   "metadata": {},
   "outputs": [],
   "source": [
    "# Compile the model\n",
    "model.compile(optimizer=optimizer, loss='categorical_crossentropy', metrics=['accuracy'])"
   ]
  },
  {
   "cell_type": "code",
   "execution_count": 221,
   "id": "ce6a5318-9a2c-4d67-86c3-d3a591a8e69a",
   "metadata": {},
   "outputs": [],
   "source": [
    "# Convert labels to categorical format\n",
    "le = LabelEncoder()\n",
    "y_train_deep = to_categorical(le.fit_transform(y_train_deep))\n",
    "y_test_deep = to_categorical(le.fit_transform(y_test_deep))"
   ]
  },
  {
   "cell_type": "code",
   "execution_count": 144,
   "id": "d30e8182-de60-4419-b554-a0f033b05b97",
   "metadata": {},
   "outputs": [],
   "source": [
    "# Class proportions\n",
    "p1 = 0.61\n",
    "p2 = 0.29\n",
    "p3 = 0.1"
   ]
  },
  {
   "cell_type": "code",
   "execution_count": 145,
   "id": "44363875-ddf9-4a0f-95cb-21d61aa51291",
   "metadata": {},
   "outputs": [],
   "source": [
    "# Calculate weights\n",
    "w1 = 1 / p1\n",
    "w2 = 1 / p2\n",
    "w3 = 1 / p3"
   ]
  },
  {
   "cell_type": "code",
   "execution_count": 146,
   "id": "37ac069c-f3e1-45be-9af0-799e464df12a",
   "metadata": {},
   "outputs": [],
   "source": [
    "# Normalize weights\n",
    "sum_weights = w1 + w2 + w3\n",
    "normalized_w1 = w1 / sum_weights\n",
    "normalized_w2 = w2 / sum_weights\n",
    "normalized_w3 = w3 / sum_weights"
   ]
  },
  {
   "cell_type": "code",
   "execution_count": 224,
   "id": "715ea94b-e565-4a17-b94d-a8339afc6322",
   "metadata": {},
   "outputs": [
    {
     "ename": "MemoryError",
     "evalue": "Unable to allocate 5.55 GiB for an array with shape (18618, 8, 5000) and data type float64",
     "output_type": "error",
     "traceback": [
      "\u001b[1;31m---------------------------------------------------------------------------\u001b[0m",
      "\u001b[1;31mMemoryError\u001b[0m                               Traceback (most recent call last)",
      "Cell \u001b[1;32mIn[224], line 2\u001b[0m\n\u001b[0;32m      1\u001b[0m \u001b[38;5;66;03m# Train the model\u001b[39;00m\n\u001b[1;32m----> 2\u001b[0m model\u001b[38;5;241m.\u001b[39mfit(X_train_deep, y_train_deep, epochs\u001b[38;5;241m=\u001b[39m\u001b[38;5;241m50\u001b[39m, batch_size\u001b[38;5;241m=\u001b[39mbatch_size, validation_data\u001b[38;5;241m=\u001b[39m(X_test_deep, y_test_deep), callbacks\u001b[38;5;241m=\u001b[39m[early_stopping], class_weight\u001b[38;5;241m=\u001b[39m{\u001b[38;5;241m0\u001b[39m:\u001b[38;5;241m0.1\u001b[39m, \u001b[38;5;241m1\u001b[39m:\u001b[38;5;241m0.2\u001b[39m, \u001b[38;5;241m2\u001b[39m:\u001b[38;5;241m0.7\u001b[39m})\n",
      "File \u001b[1;32m~\\anaconda3\\envs\\e_hc_h\\Lib\\site-packages\\keras\\src\\utils\\traceback_utils.py:70\u001b[0m, in \u001b[0;36mfilter_traceback.<locals>.error_handler\u001b[1;34m(*args, **kwargs)\u001b[0m\n\u001b[0;32m     67\u001b[0m     filtered_tb \u001b[38;5;241m=\u001b[39m _process_traceback_frames(e\u001b[38;5;241m.\u001b[39m__traceback__)\n\u001b[0;32m     68\u001b[0m     \u001b[38;5;66;03m# To get the full stack trace, call:\u001b[39;00m\n\u001b[0;32m     69\u001b[0m     \u001b[38;5;66;03m# `tf.debugging.disable_traceback_filtering()`\u001b[39;00m\n\u001b[1;32m---> 70\u001b[0m     \u001b[38;5;28;01mraise\u001b[39;00m e\u001b[38;5;241m.\u001b[39mwith_traceback(filtered_tb) \u001b[38;5;28;01mfrom\u001b[39;00m \u001b[38;5;28;01mNone\u001b[39;00m\n\u001b[0;32m     71\u001b[0m \u001b[38;5;28;01mfinally\u001b[39;00m:\n\u001b[0;32m     72\u001b[0m     \u001b[38;5;28;01mdel\u001b[39;00m filtered_tb\n",
      "File \u001b[1;32m~\\anaconda3\\envs\\e_hc_h\\Lib\\site-packages\\tensorflow\\python\\framework\\constant_op.py:91\u001b[0m, in \u001b[0;36mconvert_to_eager_tensor\u001b[1;34m(value, ctx, dtype)\u001b[0m\n\u001b[0;32m     71\u001b[0m \u001b[38;5;250m\u001b[39m\u001b[38;5;124;03m\"\"\"Converts the given `value` to an `EagerTensor`.\u001b[39;00m\n\u001b[0;32m     72\u001b[0m \n\u001b[0;32m     73\u001b[0m \u001b[38;5;124;03mNote that this function could return cached copies of created constants for\u001b[39;00m\n\u001b[1;32m   (...)\u001b[0m\n\u001b[0;32m     85\u001b[0m \u001b[38;5;124;03m  TypeError: if `dtype` is not compatible with the type of t.\u001b[39;00m\n\u001b[0;32m     86\u001b[0m \u001b[38;5;124;03m\"\"\"\u001b[39;00m\n\u001b[0;32m     87\u001b[0m \u001b[38;5;28;01mif\u001b[39;00m \u001b[38;5;28misinstance\u001b[39m(value, np\u001b[38;5;241m.\u001b[39mndarray):\n\u001b[0;32m     88\u001b[0m   \u001b[38;5;66;03m# Make a copy explicitly because the EagerTensor might share the underlying\u001b[39;00m\n\u001b[0;32m     89\u001b[0m   \u001b[38;5;66;03m# memory with the input array. Without this copy, users will be able to\u001b[39;00m\n\u001b[0;32m     90\u001b[0m   \u001b[38;5;66;03m# modify the EagerTensor after its creation by changing the input array.\u001b[39;00m\n\u001b[1;32m---> 91\u001b[0m   value \u001b[38;5;241m=\u001b[39m value\u001b[38;5;241m.\u001b[39mcopy()\n\u001b[0;32m     92\u001b[0m \u001b[38;5;28;01mif\u001b[39;00m \u001b[38;5;28misinstance\u001b[39m(value, ops\u001b[38;5;241m.\u001b[39mEagerTensor):\n\u001b[0;32m     93\u001b[0m   \u001b[38;5;28;01mif\u001b[39;00m dtype \u001b[38;5;129;01mis\u001b[39;00m \u001b[38;5;129;01mnot\u001b[39;00m \u001b[38;5;28;01mNone\u001b[39;00m \u001b[38;5;129;01mand\u001b[39;00m value\u001b[38;5;241m.\u001b[39mdtype \u001b[38;5;241m!=\u001b[39m dtype:\n",
      "\u001b[1;31mMemoryError\u001b[0m: Unable to allocate 5.55 GiB for an array with shape (18618, 8, 5000) and data type float64"
     ]
    }
   ],
   "source": [
    "# Train the model\n",
    "model.fit(X_train_deep, y_train_deep, epochs=50, batch_size=batch_size, validation_data=(X_test_deep, y_test_deep), callbacks=[early_stopping], class_weight={0:0.1, 1:0.2, 2:0.7})"
   ]
  },
  {
   "cell_type": "code",
   "execution_count": 157,
   "id": "cf858c7b-916e-46cf-bc31-c23e6ac7a73f",
   "metadata": {},
   "outputs": [
    {
     "name": "stdout",
     "output_type": "stream",
     "text": [
      "146/146 [==============================] - 1s 6ms/step - loss: 1.0561 - accuracy: 0.4992\n",
      "Test Loss: 1.0561214685440063\n",
      "Test Accuracy: 0.49924811720848083\n"
     ]
    }
   ],
   "source": [
    "# Evaluate the model\n",
    "loss, accuracy = model.evaluate(X_test_deep, y_test_deep)\n",
    "print(\"Test Loss:\", loss)\n",
    "print(\"Test Accuracy:\", accuracy)"
   ]
  },
  {
   "cell_type": "code",
   "execution_count": 158,
   "id": "e56a1bf9-0367-495c-859e-cadfd33e388f",
   "metadata": {},
   "outputs": [
    {
     "name": "stdout",
     "output_type": "stream",
     "text": [
      "146/146 [==============================] - 1s 6ms/step\n"
     ]
    }
   ],
   "source": [
    "y_pred_deep = model.predict(X_test_deep)"
   ]
  },
  {
   "cell_type": "code",
   "execution_count": 159,
   "id": "ea5baff5-6512-4303-8ebc-90975b03e4ca",
   "metadata": {},
   "outputs": [],
   "source": [
    "y_pred_deep = np.argmax(y_pred_deep, axis=1)"
   ]
  },
  {
   "cell_type": "code",
   "execution_count": 160,
   "id": "8cb2a968-a8c6-41ad-b575-4b1de2b06946",
   "metadata": {},
   "outputs": [],
   "source": [
    "y_test_deep = np.argmax(y_test_deep, axis=1)"
   ]
  },
  {
   "cell_type": "code",
   "execution_count": 161,
   "id": "cbc811a9-3566-424c-b940-dc5d2b9997ef",
   "metadata": {},
   "outputs": [],
   "source": [
    "# Evaluate the model\n",
    "accuracy = accuracy_score(y_test_deep, y_pred_deep)\n",
    "report = classification_report(y_test_deep, y_pred_deep)"
   ]
  },
  {
   "cell_type": "code",
   "execution_count": 162,
   "id": "0b122710-4fd2-48bb-b763-962981916a55",
   "metadata": {},
   "outputs": [
    {
     "data": {
      "text/plain": [
       "0.4992481203007519"
      ]
     },
     "execution_count": 162,
     "metadata": {},
     "output_type": "execute_result"
    }
   ],
   "source": [
    "accuracy"
   ]
  },
  {
   "cell_type": "code",
   "execution_count": 163,
   "id": "3d0634d7-b122-4c66-9ed6-073cc8185fd1",
   "metadata": {},
   "outputs": [
    {
     "name": "stdout",
     "output_type": "stream",
     "text": [
      "Classification Report:\n",
      "               precision    recall  f1-score   support\n",
      "\n",
      "           0       0.66      0.55      0.60      2804\n",
      "           1       0.34      0.56      0.42      1383\n",
      "           2       0.17      0.00      0.00       468\n",
      "\n",
      "    accuracy                           0.50      4655\n",
      "   macro avg       0.39      0.37      0.34      4655\n",
      "weighted avg       0.51      0.50      0.49      4655\n",
      "\n"
     ]
    }
   ],
   "source": [
    "print(\"Classification Report:\\n\", report)"
   ]
  },
  {
   "cell_type": "code",
   "execution_count": null,
   "id": "7735bde2-70e2-4be7-9183-0778cc62573d",
   "metadata": {},
   "outputs": [],
   "source": [
    "############################################ CLASSICAL #########################################################"
   ]
  },
  {
   "cell_type": "code",
   "execution_count": 164,
   "id": "d130814f-8c39-4fc6-81ab-bdf29a2f1312",
   "metadata": {},
   "outputs": [],
   "source": [
    "# Standardize the features\n",
    "scaler = StandardScaler()\n",
    "X_train_classical = scaler.fit_transform(X_train_classical)\n",
    "X_test_classical = scaler.transform(X_test_classical)"
   ]
  },
  {
   "cell_type": "code",
   "execution_count": 165,
   "id": "8acf7f0e-cd48-436d-a062-13536514e530",
   "metadata": {},
   "outputs": [
    {
     "data": {
      "text/html": [
       "<style>#sk-container-id-5 {color: black;background-color: white;}#sk-container-id-5 pre{padding: 0;}#sk-container-id-5 div.sk-toggleable {background-color: white;}#sk-container-id-5 label.sk-toggleable__label {cursor: pointer;display: block;width: 100%;margin-bottom: 0;padding: 0.3em;box-sizing: border-box;text-align: center;}#sk-container-id-5 label.sk-toggleable__label-arrow:before {content: \"▸\";float: left;margin-right: 0.25em;color: #696969;}#sk-container-id-5 label.sk-toggleable__label-arrow:hover:before {color: black;}#sk-container-id-5 div.sk-estimator:hover label.sk-toggleable__label-arrow:before {color: black;}#sk-container-id-5 div.sk-toggleable__content {max-height: 0;max-width: 0;overflow: hidden;text-align: left;background-color: #f0f8ff;}#sk-container-id-5 div.sk-toggleable__content pre {margin: 0.2em;color: black;border-radius: 0.25em;background-color: #f0f8ff;}#sk-container-id-5 input.sk-toggleable__control:checked~div.sk-toggleable__content {max-height: 200px;max-width: 100%;overflow: auto;}#sk-container-id-5 input.sk-toggleable__control:checked~label.sk-toggleable__label-arrow:before {content: \"▾\";}#sk-container-id-5 div.sk-estimator input.sk-toggleable__control:checked~label.sk-toggleable__label {background-color: #d4ebff;}#sk-container-id-5 div.sk-label input.sk-toggleable__control:checked~label.sk-toggleable__label {background-color: #d4ebff;}#sk-container-id-5 input.sk-hidden--visually {border: 0;clip: rect(1px 1px 1px 1px);clip: rect(1px, 1px, 1px, 1px);height: 1px;margin: -1px;overflow: hidden;padding: 0;position: absolute;width: 1px;}#sk-container-id-5 div.sk-estimator {font-family: monospace;background-color: #f0f8ff;border: 1px dotted black;border-radius: 0.25em;box-sizing: border-box;margin-bottom: 0.5em;}#sk-container-id-5 div.sk-estimator:hover {background-color: #d4ebff;}#sk-container-id-5 div.sk-parallel-item::after {content: \"\";width: 100%;border-bottom: 1px solid gray;flex-grow: 1;}#sk-container-id-5 div.sk-label:hover label.sk-toggleable__label {background-color: #d4ebff;}#sk-container-id-5 div.sk-serial::before {content: \"\";position: absolute;border-left: 1px solid gray;box-sizing: border-box;top: 0;bottom: 0;left: 50%;z-index: 0;}#sk-container-id-5 div.sk-serial {display: flex;flex-direction: column;align-items: center;background-color: white;padding-right: 0.2em;padding-left: 0.2em;position: relative;}#sk-container-id-5 div.sk-item {position: relative;z-index: 1;}#sk-container-id-5 div.sk-parallel {display: flex;align-items: stretch;justify-content: center;background-color: white;position: relative;}#sk-container-id-5 div.sk-item::before, #sk-container-id-5 div.sk-parallel-item::before {content: \"\";position: absolute;border-left: 1px solid gray;box-sizing: border-box;top: 0;bottom: 0;left: 50%;z-index: -1;}#sk-container-id-5 div.sk-parallel-item {display: flex;flex-direction: column;z-index: 1;position: relative;background-color: white;}#sk-container-id-5 div.sk-parallel-item:first-child::after {align-self: flex-end;width: 50%;}#sk-container-id-5 div.sk-parallel-item:last-child::after {align-self: flex-start;width: 50%;}#sk-container-id-5 div.sk-parallel-item:only-child::after {width: 0;}#sk-container-id-5 div.sk-dashed-wrapped {border: 1px dashed gray;margin: 0 0.4em 0.5em 0.4em;box-sizing: border-box;padding-bottom: 0.4em;background-color: white;}#sk-container-id-5 div.sk-label label {font-family: monospace;font-weight: bold;display: inline-block;line-height: 1.2em;}#sk-container-id-5 div.sk-label-container {text-align: center;}#sk-container-id-5 div.sk-container {/* jupyter's `normalize.less` sets `[hidden] { display: none; }` but bootstrap.min.css set `[hidden] { display: none !important; }` so we also need the `!important` here to be able to override the default hidden behavior on the sphinx rendered scikit-learn.org. See: https://github.com/scikit-learn/scikit-learn/issues/21755 */display: inline-block !important;position: relative;}#sk-container-id-5 div.sk-text-repr-fallback {display: none;}</style><div id=\"sk-container-id-5\" class=\"sk-top-container\"><div class=\"sk-text-repr-fallback\"><pre>RandomForestClassifier(class_weight={0: 0.05, 1: 0.1, 2: 0.85},\n",
       "                       n_estimators=150, random_state=42)</pre><b>In a Jupyter environment, please rerun this cell to show the HTML representation or trust the notebook. <br />On GitHub, the HTML representation is unable to render, please try loading this page with nbviewer.org.</b></div><div class=\"sk-container\" hidden><div class=\"sk-item\"><div class=\"sk-estimator sk-toggleable\"><input class=\"sk-toggleable__control sk-hidden--visually\" id=\"sk-estimator-id-5\" type=\"checkbox\" checked><label for=\"sk-estimator-id-5\" class=\"sk-toggleable__label sk-toggleable__label-arrow\">RandomForestClassifier</label><div class=\"sk-toggleable__content\"><pre>RandomForestClassifier(class_weight={0: 0.05, 1: 0.1, 2: 0.85},\n",
       "                       n_estimators=150, random_state=42)</pre></div></div></div></div></div>"
      ],
      "text/plain": [
       "RandomForestClassifier(class_weight={0: 0.05, 1: 0.1, 2: 0.85},\n",
       "                       n_estimators=150, random_state=42)"
      ]
     },
     "execution_count": 165,
     "metadata": {},
     "output_type": "execute_result"
    }
   ],
   "source": [
    "# Train a Random Forest classifier\n",
    "rf_classifier = RandomForestClassifier(class_weight = {0 : 0.05, 1 : 0.15, 2 : 0.8}, n_estimators=150, random_state=42)\n",
    "rf_classifier.fit(X_train_classical, y_train_classical)"
   ]
  },
  {
   "cell_type": "code",
   "execution_count": 166,
   "id": "e1f4d87d-db43-4dd2-8f86-2ff745c72285",
   "metadata": {},
   "outputs": [],
   "source": [
    "y_pred_classical = rf_classifier.predict(X_test_classical)"
   ]
  },
  {
   "cell_type": "code",
   "execution_count": 167,
   "id": "026273c9-713c-4872-a9fd-7d6eeafdcb3f",
   "metadata": {},
   "outputs": [],
   "source": [
    "# Evaluate the model\n",
    "accuracy = accuracy_score(y_test_classical, y_pred_classical)\n",
    "report = classification_report(y_test_classical, y_pred_classical)"
   ]
  },
  {
   "cell_type": "code",
   "execution_count": 168,
   "id": "0db1b7fb-22d8-4b4e-b20b-f235824d07e2",
   "metadata": {},
   "outputs": [
    {
     "data": {
      "text/plain": [
       "0.637593984962406"
      ]
     },
     "execution_count": 168,
     "metadata": {},
     "output_type": "execute_result"
    }
   ],
   "source": [
    "accuracy"
   ]
  },
  {
   "cell_type": "code",
   "execution_count": 169,
   "id": "9c2dd66d-d88d-40c6-b40e-b66084bfdc4d",
   "metadata": {},
   "outputs": [
    {
     "name": "stdout",
     "output_type": "stream",
     "text": [
      "Classification Report:\n",
      "               precision    recall  f1-score   support\n",
      "\n",
      "           0       0.64      0.97      0.77      2804\n",
      "           1       0.65      0.17      0.27      1383\n",
      "           2       0.35      0.01      0.02       468\n",
      "\n",
      "    accuracy                           0.64      4655\n",
      "   macro avg       0.55      0.38      0.35      4655\n",
      "weighted avg       0.61      0.64      0.55      4655\n",
      "\n"
     ]
    }
   ],
   "source": [
    "print(\"Classification Report:\\n\", report)"
   ]
  },
  {
   "cell_type": "code",
   "execution_count": 170,
   "id": "8b8df570-7c04-42fe-8bbd-71b644848cc5",
   "metadata": {},
   "outputs": [],
   "source": [
    "######################################### ENSEMBLE ###########################################################"
   ]
  },
  {
   "cell_type": "code",
   "execution_count": 171,
   "id": "f4a50931-1e7d-4dd2-a6fb-f373fd5bb4c7",
   "metadata": {},
   "outputs": [],
   "source": [
    "# Step 5: Combine predictions using stacking\n",
    "stacked_features_train = np.column_stack((y_pred_deep, y_pred_classical))"
   ]
  },
  {
   "cell_type": "code",
   "execution_count": 172,
   "id": "60d7517e-db00-4d1a-af9c-d09352bed54a",
   "metadata": {},
   "outputs": [],
   "source": [
    "## MOVE above later\n",
    "from sklearn.linear_model import LogisticRegression\n",
    "from sklearn.model_selection import cross_val_predict"
   ]
  },
  {
   "cell_type": "code",
   "execution_count": 173,
   "id": "affcc61f-240d-4715-bd9d-00a126fde171",
   "metadata": {},
   "outputs": [
    {
     "data": {
      "text/html": [
       "<style>#sk-container-id-6 {color: black;background-color: white;}#sk-container-id-6 pre{padding: 0;}#sk-container-id-6 div.sk-toggleable {background-color: white;}#sk-container-id-6 label.sk-toggleable__label {cursor: pointer;display: block;width: 100%;margin-bottom: 0;padding: 0.3em;box-sizing: border-box;text-align: center;}#sk-container-id-6 label.sk-toggleable__label-arrow:before {content: \"▸\";float: left;margin-right: 0.25em;color: #696969;}#sk-container-id-6 label.sk-toggleable__label-arrow:hover:before {color: black;}#sk-container-id-6 div.sk-estimator:hover label.sk-toggleable__label-arrow:before {color: black;}#sk-container-id-6 div.sk-toggleable__content {max-height: 0;max-width: 0;overflow: hidden;text-align: left;background-color: #f0f8ff;}#sk-container-id-6 div.sk-toggleable__content pre {margin: 0.2em;color: black;border-radius: 0.25em;background-color: #f0f8ff;}#sk-container-id-6 input.sk-toggleable__control:checked~div.sk-toggleable__content {max-height: 200px;max-width: 100%;overflow: auto;}#sk-container-id-6 input.sk-toggleable__control:checked~label.sk-toggleable__label-arrow:before {content: \"▾\";}#sk-container-id-6 div.sk-estimator input.sk-toggleable__control:checked~label.sk-toggleable__label {background-color: #d4ebff;}#sk-container-id-6 div.sk-label input.sk-toggleable__control:checked~label.sk-toggleable__label {background-color: #d4ebff;}#sk-container-id-6 input.sk-hidden--visually {border: 0;clip: rect(1px 1px 1px 1px);clip: rect(1px, 1px, 1px, 1px);height: 1px;margin: -1px;overflow: hidden;padding: 0;position: absolute;width: 1px;}#sk-container-id-6 div.sk-estimator {font-family: monospace;background-color: #f0f8ff;border: 1px dotted black;border-radius: 0.25em;box-sizing: border-box;margin-bottom: 0.5em;}#sk-container-id-6 div.sk-estimator:hover {background-color: #d4ebff;}#sk-container-id-6 div.sk-parallel-item::after {content: \"\";width: 100%;border-bottom: 1px solid gray;flex-grow: 1;}#sk-container-id-6 div.sk-label:hover label.sk-toggleable__label {background-color: #d4ebff;}#sk-container-id-6 div.sk-serial::before {content: \"\";position: absolute;border-left: 1px solid gray;box-sizing: border-box;top: 0;bottom: 0;left: 50%;z-index: 0;}#sk-container-id-6 div.sk-serial {display: flex;flex-direction: column;align-items: center;background-color: white;padding-right: 0.2em;padding-left: 0.2em;position: relative;}#sk-container-id-6 div.sk-item {position: relative;z-index: 1;}#sk-container-id-6 div.sk-parallel {display: flex;align-items: stretch;justify-content: center;background-color: white;position: relative;}#sk-container-id-6 div.sk-item::before, #sk-container-id-6 div.sk-parallel-item::before {content: \"\";position: absolute;border-left: 1px solid gray;box-sizing: border-box;top: 0;bottom: 0;left: 50%;z-index: -1;}#sk-container-id-6 div.sk-parallel-item {display: flex;flex-direction: column;z-index: 1;position: relative;background-color: white;}#sk-container-id-6 div.sk-parallel-item:first-child::after {align-self: flex-end;width: 50%;}#sk-container-id-6 div.sk-parallel-item:last-child::after {align-self: flex-start;width: 50%;}#sk-container-id-6 div.sk-parallel-item:only-child::after {width: 0;}#sk-container-id-6 div.sk-dashed-wrapped {border: 1px dashed gray;margin: 0 0.4em 0.5em 0.4em;box-sizing: border-box;padding-bottom: 0.4em;background-color: white;}#sk-container-id-6 div.sk-label label {font-family: monospace;font-weight: bold;display: inline-block;line-height: 1.2em;}#sk-container-id-6 div.sk-label-container {text-align: center;}#sk-container-id-6 div.sk-container {/* jupyter's `normalize.less` sets `[hidden] { display: none; }` but bootstrap.min.css set `[hidden] { display: none !important; }` so we also need the `!important` here to be able to override the default hidden behavior on the sphinx rendered scikit-learn.org. See: https://github.com/scikit-learn/scikit-learn/issues/21755 */display: inline-block !important;position: relative;}#sk-container-id-6 div.sk-text-repr-fallback {display: none;}</style><div id=\"sk-container-id-6\" class=\"sk-top-container\"><div class=\"sk-text-repr-fallback\"><pre>LogisticRegression()</pre><b>In a Jupyter environment, please rerun this cell to show the HTML representation or trust the notebook. <br />On GitHub, the HTML representation is unable to render, please try loading this page with nbviewer.org.</b></div><div class=\"sk-container\" hidden><div class=\"sk-item\"><div class=\"sk-estimator sk-toggleable\"><input class=\"sk-toggleable__control sk-hidden--visually\" id=\"sk-estimator-id-6\" type=\"checkbox\" checked><label for=\"sk-estimator-id-6\" class=\"sk-toggleable__label sk-toggleable__label-arrow\">LogisticRegression</label><div class=\"sk-toggleable__content\"><pre>LogisticRegression()</pre></div></div></div></div></div>"
      ],
      "text/plain": [
       "LogisticRegression()"
      ]
     },
     "execution_count": 173,
     "metadata": {},
     "output_type": "execute_result"
    }
   ],
   "source": [
    "# Optional: Train a logistic regression meta-model\n",
    "meta_model = LogisticRegression()\n",
    "meta_model.fit(stacked_features_train, y_test_deep)"
   ]
  },
  {
   "cell_type": "code",
   "execution_count": 174,
   "id": "4f79953e-718f-49d4-a7ab-a1b9563ef8e8",
   "metadata": {},
   "outputs": [],
   "source": [
    "# Use cross_val_predict for out-of-fold predictions\n",
    "# y_pred_deep ready\n",
    "# y_pred_classical ready\n",
    "stacked_features_test = np.column_stack((y_pred_deep, y_pred_classical))"
   ]
  },
  {
   "cell_type": "code",
   "execution_count": 175,
   "id": "c6a29e37-5f06-493d-af8d-896a3b35a564",
   "metadata": {},
   "outputs": [],
   "source": [
    "y_pred_ensemble = meta_model.predict(stacked_features_test)"
   ]
  },
  {
   "cell_type": "code",
   "execution_count": 176,
   "id": "373eeba1-6809-4537-9824-41924568ecc6",
   "metadata": {},
   "outputs": [
    {
     "name": "stdout",
     "output_type": "stream",
     "text": [
      "Ensemble Accuracy: 0.6373791621911923\n"
     ]
    }
   ],
   "source": [
    "# Step 6: Evaluate the ensemble\n",
    "ensemble_accuracy = accuracy_score(y_test_deep, y_pred_ensemble)\n",
    "print(f'Ensemble Accuracy: {ensemble_accuracy}')"
   ]
  },
  {
   "cell_type": "code",
   "execution_count": 177,
   "id": "766f5ea1-b7ff-47cc-9281-15252be10f54",
   "metadata": {},
   "outputs": [
    {
     "name": "stdout",
     "output_type": "stream",
     "text": [
      "Classification Report:\n",
      "               precision    recall  f1-score   support\n",
      "\n",
      "           0       0.64      0.97      0.77      2804\n",
      "           1       0.64      0.17      0.27      1383\n",
      "           2       0.00      0.00      0.00       468\n",
      "\n",
      "    accuracy                           0.64      4655\n",
      "   macro avg       0.42      0.38      0.35      4655\n",
      "weighted avg       0.57      0.64      0.54      4655\n",
      "\n"
     ]
    },
    {
     "name": "stderr",
     "output_type": "stream",
     "text": [
      "C:\\Users\\Iskndranii\\anaconda3\\envs\\e_hc_h\\Lib\\site-packages\\sklearn\\metrics\\_classification.py:1344: UndefinedMetricWarning: Precision and F-score are ill-defined and being set to 0.0 in labels with no predicted samples. Use `zero_division` parameter to control this behavior.\n",
      "  _warn_prf(average, modifier, msg_start, len(result))\n",
      "C:\\Users\\Iskndranii\\anaconda3\\envs\\e_hc_h\\Lib\\site-packages\\sklearn\\metrics\\_classification.py:1344: UndefinedMetricWarning: Precision and F-score are ill-defined and being set to 0.0 in labels with no predicted samples. Use `zero_division` parameter to control this behavior.\n",
      "  _warn_prf(average, modifier, msg_start, len(result))\n",
      "C:\\Users\\Iskndranii\\anaconda3\\envs\\e_hc_h\\Lib\\site-packages\\sklearn\\metrics\\_classification.py:1344: UndefinedMetricWarning: Precision and F-score are ill-defined and being set to 0.0 in labels with no predicted samples. Use `zero_division` parameter to control this behavior.\n",
      "  _warn_prf(average, modifier, msg_start, len(result))\n"
     ]
    }
   ],
   "source": [
    "report = classification_report(y_test_deep, y_pred_ensemble)\n",
    "print(\"Classification Report:\\n\", report)"
   ]
  },
  {
   "cell_type": "code",
   "execution_count": 184,
   "id": "f41fd5c4-ff9c-4338-9a3a-89fa28e3419e",
   "metadata": {},
   "outputs": [],
   "source": [
    "from sklearn.svm import SVC"
   ]
  },
  {
   "cell_type": "code",
   "execution_count": 199,
   "id": "fac03017-98c8-49a5-bf5b-83cb5d6c2a9d",
   "metadata": {},
   "outputs": [],
   "source": [
    "# Create a Support Vector Machine model\n",
    "svm_model = SVC(kernel='linear', C=1, random_state=42, class_weight= {0:0.05 , 1:0.15 , 2:0.8})"
   ]
  },
  {
   "cell_type": "code",
   "execution_count": 200,
   "id": "25f994b1-ad10-4475-afae-44c9a08a6857",
   "metadata": {},
   "outputs": [
    {
     "data": {
      "text/html": [
       "<style>#sk-container-id-11 {color: black;background-color: white;}#sk-container-id-11 pre{padding: 0;}#sk-container-id-11 div.sk-toggleable {background-color: white;}#sk-container-id-11 label.sk-toggleable__label {cursor: pointer;display: block;width: 100%;margin-bottom: 0;padding: 0.3em;box-sizing: border-box;text-align: center;}#sk-container-id-11 label.sk-toggleable__label-arrow:before {content: \"▸\";float: left;margin-right: 0.25em;color: #696969;}#sk-container-id-11 label.sk-toggleable__label-arrow:hover:before {color: black;}#sk-container-id-11 div.sk-estimator:hover label.sk-toggleable__label-arrow:before {color: black;}#sk-container-id-11 div.sk-toggleable__content {max-height: 0;max-width: 0;overflow: hidden;text-align: left;background-color: #f0f8ff;}#sk-container-id-11 div.sk-toggleable__content pre {margin: 0.2em;color: black;border-radius: 0.25em;background-color: #f0f8ff;}#sk-container-id-11 input.sk-toggleable__control:checked~div.sk-toggleable__content {max-height: 200px;max-width: 100%;overflow: auto;}#sk-container-id-11 input.sk-toggleable__control:checked~label.sk-toggleable__label-arrow:before {content: \"▾\";}#sk-container-id-11 div.sk-estimator input.sk-toggleable__control:checked~label.sk-toggleable__label {background-color: #d4ebff;}#sk-container-id-11 div.sk-label input.sk-toggleable__control:checked~label.sk-toggleable__label {background-color: #d4ebff;}#sk-container-id-11 input.sk-hidden--visually {border: 0;clip: rect(1px 1px 1px 1px);clip: rect(1px, 1px, 1px, 1px);height: 1px;margin: -1px;overflow: hidden;padding: 0;position: absolute;width: 1px;}#sk-container-id-11 div.sk-estimator {font-family: monospace;background-color: #f0f8ff;border: 1px dotted black;border-radius: 0.25em;box-sizing: border-box;margin-bottom: 0.5em;}#sk-container-id-11 div.sk-estimator:hover {background-color: #d4ebff;}#sk-container-id-11 div.sk-parallel-item::after {content: \"\";width: 100%;border-bottom: 1px solid gray;flex-grow: 1;}#sk-container-id-11 div.sk-label:hover label.sk-toggleable__label {background-color: #d4ebff;}#sk-container-id-11 div.sk-serial::before {content: \"\";position: absolute;border-left: 1px solid gray;box-sizing: border-box;top: 0;bottom: 0;left: 50%;z-index: 0;}#sk-container-id-11 div.sk-serial {display: flex;flex-direction: column;align-items: center;background-color: white;padding-right: 0.2em;padding-left: 0.2em;position: relative;}#sk-container-id-11 div.sk-item {position: relative;z-index: 1;}#sk-container-id-11 div.sk-parallel {display: flex;align-items: stretch;justify-content: center;background-color: white;position: relative;}#sk-container-id-11 div.sk-item::before, #sk-container-id-11 div.sk-parallel-item::before {content: \"\";position: absolute;border-left: 1px solid gray;box-sizing: border-box;top: 0;bottom: 0;left: 50%;z-index: -1;}#sk-container-id-11 div.sk-parallel-item {display: flex;flex-direction: column;z-index: 1;position: relative;background-color: white;}#sk-container-id-11 div.sk-parallel-item:first-child::after {align-self: flex-end;width: 50%;}#sk-container-id-11 div.sk-parallel-item:last-child::after {align-self: flex-start;width: 50%;}#sk-container-id-11 div.sk-parallel-item:only-child::after {width: 0;}#sk-container-id-11 div.sk-dashed-wrapped {border: 1px dashed gray;margin: 0 0.4em 0.5em 0.4em;box-sizing: border-box;padding-bottom: 0.4em;background-color: white;}#sk-container-id-11 div.sk-label label {font-family: monospace;font-weight: bold;display: inline-block;line-height: 1.2em;}#sk-container-id-11 div.sk-label-container {text-align: center;}#sk-container-id-11 div.sk-container {/* jupyter's `normalize.less` sets `[hidden] { display: none; }` but bootstrap.min.css set `[hidden] { display: none !important; }` so we also need the `!important` here to be able to override the default hidden behavior on the sphinx rendered scikit-learn.org. See: https://github.com/scikit-learn/scikit-learn/issues/21755 */display: inline-block !important;position: relative;}#sk-container-id-11 div.sk-text-repr-fallback {display: none;}</style><div id=\"sk-container-id-11\" class=\"sk-top-container\"><div class=\"sk-text-repr-fallback\"><pre>SVC(C=1, class_weight={0: 0.01, 1: 0.02, 2: 0.97}, kernel=&#x27;linear&#x27;,\n",
       "    random_state=42)</pre><b>In a Jupyter environment, please rerun this cell to show the HTML representation or trust the notebook. <br />On GitHub, the HTML representation is unable to render, please try loading this page with nbviewer.org.</b></div><div class=\"sk-container\" hidden><div class=\"sk-item\"><div class=\"sk-estimator sk-toggleable\"><input class=\"sk-toggleable__control sk-hidden--visually\" id=\"sk-estimator-id-11\" type=\"checkbox\" checked><label for=\"sk-estimator-id-11\" class=\"sk-toggleable__label sk-toggleable__label-arrow\">SVC</label><div class=\"sk-toggleable__content\"><pre>SVC(C=1, class_weight={0: 0.01, 1: 0.02, 2: 0.97}, kernel=&#x27;linear&#x27;,\n",
       "    random_state=42)</pre></div></div></div></div></div>"
      ],
      "text/plain": [
       "SVC(C=1, class_weight={0: 0.01, 1: 0.02, 2: 0.97}, kernel='linear',\n",
       "    random_state=42)"
      ]
     },
     "execution_count": 200,
     "metadata": {},
     "output_type": "execute_result"
    }
   ],
   "source": [
    "# Train the model\n",
    "svm_model.fit(stacked_features_train, y_test_deep)"
   ]
  },
  {
   "cell_type": "code",
   "execution_count": 201,
   "id": "2bf3e46d-338e-4c97-8ede-434e8173c98f",
   "metadata": {},
   "outputs": [],
   "source": [
    "# Make predictions on the test set\n",
    "y_pred_svm_ens = svm_model.predict(stacked_features_train)"
   ]
  },
  {
   "cell_type": "code",
   "execution_count": 202,
   "id": "9293b618-fd12-48cc-bcf9-3c609c063555",
   "metadata": {},
   "outputs": [
    {
     "name": "stdout",
     "output_type": "stream",
     "text": [
      "Ensemble Accuracy: 0.6373791621911923\n"
     ]
    }
   ],
   "source": [
    "# Step 6: Evaluate the ensemble\n",
    "ensemble_accuracy2 = accuracy_score(y_test_deep, y_pred_svm_ens)\n",
    "print(f'Ensemble Accuracy: {ensemble_accuracy}')"
   ]
  },
  {
   "cell_type": "code",
   "execution_count": 203,
   "id": "c4f4b7ae-ede3-4027-a50c-9c038d6f7119",
   "metadata": {},
   "outputs": [
    {
     "name": "stdout",
     "output_type": "stream",
     "text": [
      "Classification Report:\n",
      "               precision    recall  f1-score   support\n",
      "\n",
      "           0       0.64      0.97      0.77      2804\n",
      "           1       0.64      0.17      0.27      1383\n",
      "           2       0.00      0.00      0.00       468\n",
      "\n",
      "    accuracy                           0.64      4655\n",
      "   macro avg       0.42      0.38      0.35      4655\n",
      "weighted avg       0.57      0.64      0.54      4655\n",
      "\n"
     ]
    },
    {
     "name": "stderr",
     "output_type": "stream",
     "text": [
      "C:\\Users\\Iskndranii\\anaconda3\\envs\\e_hc_h\\Lib\\site-packages\\sklearn\\metrics\\_classification.py:1344: UndefinedMetricWarning: Precision and F-score are ill-defined and being set to 0.0 in labels with no predicted samples. Use `zero_division` parameter to control this behavior.\n",
      "  _warn_prf(average, modifier, msg_start, len(result))\n",
      "C:\\Users\\Iskndranii\\anaconda3\\envs\\e_hc_h\\Lib\\site-packages\\sklearn\\metrics\\_classification.py:1344: UndefinedMetricWarning: Precision and F-score are ill-defined and being set to 0.0 in labels with no predicted samples. Use `zero_division` parameter to control this behavior.\n",
      "  _warn_prf(average, modifier, msg_start, len(result))\n",
      "C:\\Users\\Iskndranii\\anaconda3\\envs\\e_hc_h\\Lib\\site-packages\\sklearn\\metrics\\_classification.py:1344: UndefinedMetricWarning: Precision and F-score are ill-defined and being set to 0.0 in labels with no predicted samples. Use `zero_division` parameter to control this behavior.\n",
      "  _warn_prf(average, modifier, msg_start, len(result))\n"
     ]
    }
   ],
   "source": [
    "report2 = classification_report(y_test_deep, y_pred_svm_ens)\n",
    "print(\"Classification Report:\\n\", report)"
   ]
  },
  {
   "cell_type": "code",
   "execution_count": null,
   "id": "dc6da1df-dea3-4073-ad48-305c632deead",
   "metadata": {},
   "outputs": [],
   "source": []
  },
  {
   "cell_type": "code",
   "execution_count": null,
   "id": "33cbeb23-54aa-4379-a229-d89aa2f5cbb5",
   "metadata": {},
   "outputs": [],
   "source": []
  }
 ],
 "metadata": {
  "kernelspec": {
   "display_name": "Python 3 (ipykernel)",
   "language": "python",
   "name": "python3"
  },
  "language_info": {
   "codemirror_mode": {
    "name": "ipython",
    "version": 3
   },
   "file_extension": ".py",
   "mimetype": "text/x-python",
   "name": "python",
   "nbconvert_exporter": "python",
   "pygments_lexer": "ipython3",
   "version": "3.11.5"
  }
 },
 "nbformat": 4,
 "nbformat_minor": 5
}
