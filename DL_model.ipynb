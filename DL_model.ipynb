{
 "cells": [
  {
   "cell_type": "code",
   "execution_count": 1,
   "id": "01b77fbb-5ee4-453d-af49-e5ba9b3138bb",
   "metadata": {},
   "outputs": [
    {
     "name": "stdout",
     "output_type": "stream",
     "text": [
      "WARNING:tensorflow:From C:\\Users\\Iskndranii\\anaconda3\\envs\\e_hc_h\\Lib\\site-packages\\keras\\src\\losses.py:2976: The name tf.losses.sparse_softmax_cross_entropy is deprecated. Please use tf.compat.v1.losses.sparse_softmax_cross_entropy instead.\n",
      "\n"
     ]
    }
   ],
   "source": [
    "import numpy as np\n",
    "from sklearn.model_selection import train_test_split\n",
    "from sklearn.preprocessing import LabelEncoder\n",
    "from tensorflow.keras.models import Sequential\n",
    "from tensorflow.keras.layers import Conv1D, MaxPooling1D, Flatten, Dense\n",
    "from tensorflow.keras.utils import to_categorical\n",
    "import pandas as pd"
   ]
  },
  {
   "cell_type": "code",
   "execution_count": 2,
   "id": "76b7297a-7ce1-4c0f-9b33-0d967d1c1f11",
   "metadata": {},
   "outputs": [],
   "source": [
    "# Load the CSV file into a DataFrame\n",
    "csv_path = 'D:\\Omar\\Friends\\European_HealthCare_Hackathon\\ecg_hospitalization\\data\\processed\\meta\\data_pairs.csv'  # Replace with the path to your CSV file\n",
    "df = pd.read_csv(csv_path)"
   ]
  },
  {
   "cell_type": "code",
   "execution_count": 3,
   "id": "30102849-5982-48c0-9302-18730b5c9de6",
   "metadata": {},
   "outputs": [
    {
     "data": {
      "text/html": [
       "<div>\n",
       "<style scoped>\n",
       "    .dataframe tbody tr th:only-of-type {\n",
       "        vertical-align: middle;\n",
       "    }\n",
       "\n",
       "    .dataframe tbody tr th {\n",
       "        vertical-align: top;\n",
       "    }\n",
       "\n",
       "    .dataframe thead th {\n",
       "        text-align: right;\n",
       "    }\n",
       "</style>\n",
       "<table border=\"1\" class=\"dataframe\">\n",
       "  <thead>\n",
       "    <tr style=\"text-align: right;\">\n",
       "      <th></th>\n",
       "      <th>np_file_path</th>\n",
       "      <th>label</th>\n",
       "    </tr>\n",
       "  </thead>\n",
       "  <tbody>\n",
       "    <tr>\n",
       "      <th>0</th>\n",
       "      <td>data\\processed\\npy\\MUSE_20231122_211154_57000.npy</td>\n",
       "      <td>0</td>\n",
       "    </tr>\n",
       "    <tr>\n",
       "      <th>1</th>\n",
       "      <td>data\\processed\\npy\\MUSE_20231122_221512_86000.npy</td>\n",
       "      <td>0</td>\n",
       "    </tr>\n",
       "    <tr>\n",
       "      <th>2</th>\n",
       "      <td>data\\processed\\npy\\MUSE_20231122_222724_38000.npy</td>\n",
       "      <td>0</td>\n",
       "    </tr>\n",
       "    <tr>\n",
       "      <th>3</th>\n",
       "      <td>data\\processed\\npy\\MUSE_20231122_101126_09000.npy</td>\n",
       "      <td>1</td>\n",
       "    </tr>\n",
       "    <tr>\n",
       "      <th>4</th>\n",
       "      <td>data\\processed\\npy\\MUSE_20231120_222227_88000.npy</td>\n",
       "      <td>0</td>\n",
       "    </tr>\n",
       "    <tr>\n",
       "      <th>...</th>\n",
       "      <td>...</td>\n",
       "      <td>...</td>\n",
       "    </tr>\n",
       "    <tr>\n",
       "      <th>23287</th>\n",
       "      <td>data\\processed\\npy\\MUSE_20231120_184943_05000.npy</td>\n",
       "      <td>0</td>\n",
       "    </tr>\n",
       "    <tr>\n",
       "      <th>23288</th>\n",
       "      <td>data\\processed\\npy\\MUSE_20231122_222459_73000.npy</td>\n",
       "      <td>0</td>\n",
       "    </tr>\n",
       "    <tr>\n",
       "      <th>23289</th>\n",
       "      <td>data\\processed\\npy\\MUSE_20231120_101111_35000.npy</td>\n",
       "      <td>0</td>\n",
       "    </tr>\n",
       "    <tr>\n",
       "      <th>23290</th>\n",
       "      <td>data\\processed\\npy\\MUSE_20231122_210819_41000.npy</td>\n",
       "      <td>0</td>\n",
       "    </tr>\n",
       "    <tr>\n",
       "      <th>23291</th>\n",
       "      <td>data\\processed\\npy\\MUSE_20231121_125151_04000.npy</td>\n",
       "      <td>1</td>\n",
       "    </tr>\n",
       "  </tbody>\n",
       "</table>\n",
       "<p>23292 rows × 2 columns</p>\n",
       "</div>"
      ],
      "text/plain": [
       "                                            np_file_path  label\n",
       "0      data\\processed\\npy\\MUSE_20231122_211154_57000.npy      0\n",
       "1      data\\processed\\npy\\MUSE_20231122_221512_86000.npy      0\n",
       "2      data\\processed\\npy\\MUSE_20231122_222724_38000.npy      0\n",
       "3      data\\processed\\npy\\MUSE_20231122_101126_09000.npy      1\n",
       "4      data\\processed\\npy\\MUSE_20231120_222227_88000.npy      0\n",
       "...                                                  ...    ...\n",
       "23287  data\\processed\\npy\\MUSE_20231120_184943_05000.npy      0\n",
       "23288  data\\processed\\npy\\MUSE_20231122_222459_73000.npy      0\n",
       "23289  data\\processed\\npy\\MUSE_20231120_101111_35000.npy      0\n",
       "23290  data\\processed\\npy\\MUSE_20231122_210819_41000.npy      0\n",
       "23291  data\\processed\\npy\\MUSE_20231121_125151_04000.npy      1\n",
       "\n",
       "[23292 rows x 2 columns]"
      ]
     },
     "execution_count": 3,
     "metadata": {},
     "output_type": "execute_result"
    }
   ],
   "source": [
    "df"
   ]
  },
  {
   "cell_type": "code",
   "execution_count": 4,
   "id": "49720c5e-5e18-4541-827a-8aca0f9ad157",
   "metadata": {},
   "outputs": [],
   "source": [
    "# Initialize empty lists to store data\n",
    "data_list = []\n",
    "labels_list = []"
   ]
  },
  {
   "cell_type": "code",
   "execution_count": 5,
   "id": "ad193954-03e9-4f38-ad96-22d1fbefb660",
   "metadata": {},
   "outputs": [],
   "source": [
    "# Iterate through rows and load .npy files\n",
    "for index, row in df.iterrows():\n",
    "    file_path = row['np_file_path']\n",
    "    label = row['label']\n",
    "\n",
    "    # Load the .npy file\n",
    "    loaded_data = np.load(file_path)\n",
    "\n",
    "    # Append the loaded data and label to the lists\n",
    "    data_list.append(loaded_data)\n",
    "    labels_list.append(label)"
   ]
  },
  {
   "cell_type": "code",
   "execution_count": 6,
   "id": "c6931334-0e1a-4d17-b336-127cef700706",
   "metadata": {},
   "outputs": [],
   "source": [
    "# Convert lists to NumPy arrays\n",
    "data_array = np.array(data_list)\n",
    "labels_array = np.array(labels_list)"
   ]
  },
  {
   "cell_type": "code",
   "execution_count": 7,
   "id": "d59654f0-9e21-4ab4-ab25-8f509c116af5",
   "metadata": {},
   "outputs": [
    {
     "name": "stdout",
     "output_type": "stream",
     "text": [
      "Data Array Shape: (23292, 8, 5000)\n",
      "Labels Array Shape: (23292,)\n"
     ]
    }
   ],
   "source": [
    "# Print shapes for verification\n",
    "print(\"Data Array Shape:\", data_array.shape)\n",
    "print(\"Labels Array Shape:\", labels_array.shape)"
   ]
  },
  {
   "cell_type": "code",
   "execution_count": 8,
   "id": "f8ad672d-b27a-4f84-a439-e0c92669ed97",
   "metadata": {},
   "outputs": [],
   "source": [
    "# Assuming ecg_data is your 3D array of raw ECG data\n",
    "# Assuming labels are integers (0, 1, 2) representing the three classes\n",
    "num_patients, num_leads, num_time_points = data_array.shape"
   ]
  },
  {
   "cell_type": "code",
   "execution_count": 9,
   "id": "2a1a94c9-bb71-45e9-a1c1-c466c3de9aed",
   "metadata": {},
   "outputs": [],
   "source": [
    "#data_array_2d = data_array.reshape(-1, data_array.shape[-1])"
   ]
  },
  {
   "cell_type": "code",
   "execution_count": 10,
   "id": "013e404c-9625-49ff-9953-8d26acf3bc8b",
   "metadata": {},
   "outputs": [],
   "source": [
    "X = data_array"
   ]
  },
  {
   "cell_type": "code",
   "execution_count": 11,
   "id": "5612d82c-e247-4e42-be94-ddf71346ef7e",
   "metadata": {},
   "outputs": [],
   "source": [
    "y = labels_array.flatten()"
   ]
  },
  {
   "cell_type": "code",
   "execution_count": 12,
   "id": "5e754008-0955-4237-931f-115aded8ba51",
   "metadata": {},
   "outputs": [
    {
     "data": {
      "text/plain": [
       "(23292, 8, 5000)"
      ]
     },
     "execution_count": 12,
     "metadata": {},
     "output_type": "execute_result"
    }
   ],
   "source": [
    "X.shape"
   ]
  },
  {
   "cell_type": "code",
   "execution_count": 13,
   "id": "e7b43f0e-b3d5-4d18-8977-3573ba8d191a",
   "metadata": {},
   "outputs": [
    {
     "data": {
      "text/plain": [
       "(23292,)"
      ]
     },
     "execution_count": 13,
     "metadata": {},
     "output_type": "execute_result"
    }
   ],
   "source": [
    "y.shape"
   ]
  },
  {
   "cell_type": "code",
   "execution_count": 14,
   "id": "6957726b-07f9-4fa4-96cc-7a21d105aaa1",
   "metadata": {},
   "outputs": [],
   "source": [
    "# Set seed for reproducibility\n",
    "np.random.seed(42)"
   ]
  },
  {
   "cell_type": "code",
   "execution_count": 15,
   "id": "98a47445-6daa-4da1-b23e-2c582ff22d5d",
   "metadata": {},
   "outputs": [],
   "source": [
    "# Generate random indices for shuffling\n",
    "indices = np.arange(len(y))\n",
    "np.random.shuffle(indices)"
   ]
  },
  {
   "cell_type": "code",
   "execution_count": 16,
   "id": "0900d9e3-a682-4dfd-b290-5252dfc34de5",
   "metadata": {},
   "outputs": [
    {
     "data": {
      "text/plain": [
       "array([23198,  7131,   167, ...,  5390,   860, 15795])"
      ]
     },
     "execution_count": 16,
     "metadata": {},
     "output_type": "execute_result"
    }
   ],
   "source": [
    "indices"
   ]
  },
  {
   "cell_type": "code",
   "execution_count": 17,
   "id": "7b4f3f17-1c46-4dca-b685-fd64300a1d9d",
   "metadata": {},
   "outputs": [],
   "source": [
    "# Shuffle X and y using the generated indices\n",
    "X_shuffled = X[indices]\n",
    "y_shuffled = y[indices]"
   ]
  },
  {
   "cell_type": "code",
   "execution_count": 18,
   "id": "fcd19928-7fc0-4115-95a9-1ffe3dda9f11",
   "metadata": {},
   "outputs": [],
   "source": [
    "X = X_shuffled\n",
    "y = y_shuffled"
   ]
  },
  {
   "cell_type": "code",
   "execution_count": 19,
   "id": "4bdcd3a9-3eb8-4031-b621-eb91c1614b70",
   "metadata": {},
   "outputs": [],
   "source": [
    "# Reshape the data to fit the CNN input shape\n",
    "#X = ecg_data.reshape(num_patients, num_leads, num_time_points)  # Remove the extra dimension\n",
    "#X = data_array"
   ]
  },
  {
   "cell_type": "code",
   "execution_count": 20,
   "id": "67409959-0234-4f47-9095-1ff833f6949d",
   "metadata": {},
   "outputs": [],
   "source": [
    "# Assuming labels are integers (0, 1, 2) representing the three classes\n",
    "# If not, you might need to preprocess your labels accordingly\n",
    "#y = labels_array.flatten()"
   ]
  },
  {
   "cell_type": "code",
   "execution_count": 21,
   "id": "70687e6b-e8fe-4b2b-89e9-f3064fb9e12f",
   "metadata": {},
   "outputs": [],
   "source": [
    "# Convert labels to categorical format\n",
    "#le = LabelEncoder()\n",
    "#y_cat = to_categorical(le.fit_transform(y))"
   ]
  },
  {
   "cell_type": "code",
   "execution_count": 22,
   "id": "6dd6cef0-5008-4e17-b6be-32f2228beba6",
   "metadata": {},
   "outputs": [],
   "source": [
    "#y_cat"
   ]
  },
  {
   "cell_type": "code",
   "execution_count": 23,
   "id": "16b8d558-a06f-4cb1-81f0-d2c9e9e36040",
   "metadata": {},
   "outputs": [
    {
     "data": {
      "text/plain": [
       "array([2, 0, 0, ..., 1, 0, 0])"
      ]
     },
     "execution_count": 23,
     "metadata": {},
     "output_type": "execute_result"
    }
   ],
   "source": [
    "y"
   ]
  },
  {
   "cell_type": "code",
   "execution_count": 24,
   "id": "fe74c204-55dc-4d83-8beb-47a79059ab98",
   "metadata": {},
   "outputs": [],
   "source": [
    "# Split the data into training and testing sets\n",
    "X_train, X_test, y_train, y_test = train_test_split(X, y, test_size=0.2, random_state=42)"
   ]
  },
  {
   "cell_type": "code",
   "execution_count": 25,
   "id": "c6f2cdad-b7da-45bc-bb5e-e68c7714b455",
   "metadata": {},
   "outputs": [],
   "source": [
    "from sklearn.utils.class_weight import compute_sample_weight"
   ]
  },
  {
   "cell_type": "code",
   "execution_count": 26,
   "id": "b236ad1e-100f-4e25-83af-41810be135c4",
   "metadata": {},
   "outputs": [],
   "source": [
    "unique_classes = np.unique(y_train)"
   ]
  },
  {
   "cell_type": "code",
   "execution_count": 27,
   "id": "15fed78a-3328-449f-abd3-d9ce5ddc7de3",
   "metadata": {},
   "outputs": [
    {
     "data": {
      "text/plain": [
       "array([0, 1, 2])"
      ]
     },
     "execution_count": 27,
     "metadata": {},
     "output_type": "execute_result"
    }
   ],
   "source": [
    "unique_classes"
   ]
  },
  {
   "cell_type": "code",
   "execution_count": 28,
   "id": "8866237d-8012-4133-b306-142e57f0112f",
   "metadata": {},
   "outputs": [],
   "source": [
    "class_weights = compute_sample_weight(class_weight='balanced', y=y_train)"
   ]
  },
  {
   "cell_type": "code",
   "execution_count": 29,
   "id": "a1561860-5efc-44b1-a1e7-5de2dc291e5a",
   "metadata": {},
   "outputs": [
    {
     "data": {
      "text/plain": [
       "array([1.14954655, 1.14954655, 1.14954655, ..., 3.51898017, 1.14954655,\n",
       "       0.54173572])"
      ]
     },
     "execution_count": 29,
     "metadata": {},
     "output_type": "execute_result"
    }
   ],
   "source": [
    "class_weights"
   ]
  },
  {
   "cell_type": "code",
   "execution_count": 30,
   "id": "ffe4c3d8-8e5e-43bf-8288-c49075afff68",
   "metadata": {},
   "outputs": [
    {
     "data": {
      "text/plain": [
       "(18633,)"
      ]
     },
     "execution_count": 30,
     "metadata": {},
     "output_type": "execute_result"
    }
   ],
   "source": [
    "class_weights.shape"
   ]
  },
  {
   "cell_type": "code",
   "execution_count": 31,
   "id": "95a4e3a6-6b4a-4cbd-bde8-3af866746d1b",
   "metadata": {},
   "outputs": [
    {
     "name": "stdout",
     "output_type": "stream",
     "text": [
      "WARNING:tensorflow:From C:\\Users\\Iskndranii\\anaconda3\\envs\\e_hc_h\\Lib\\site-packages\\keras\\src\\backend.py:873: The name tf.get_default_graph is deprecated. Please use tf.compat.v1.get_default_graph instead.\n",
      "\n",
      "WARNING:tensorflow:From C:\\Users\\Iskndranii\\anaconda3\\envs\\e_hc_h\\Lib\\site-packages\\keras\\src\\backend.py:6642: The name tf.nn.max_pool is deprecated. Please use tf.nn.max_pool2d instead.\n",
      "\n"
     ]
    }
   ],
   "source": [
    "# Build the CNN model\n",
    "model = Sequential()\n",
    "model.add(Conv1D(filters=32, kernel_size=3, activation='relu', input_shape=(num_leads, num_time_points)))\n",
    "model.add(MaxPooling1D(pool_size=2))\n",
    "model.add(Flatten())\n",
    "model.add(Dense(128, activation='relu'))\n",
    "model.add(Dense(3, activation='softmax'))  # Assuming 3 output classes"
   ]
  },
  {
   "cell_type": "code",
   "execution_count": 32,
   "id": "d522565f-3068-4af2-9ce1-4f098dd8fb6b",
   "metadata": {},
   "outputs": [
    {
     "name": "stdout",
     "output_type": "stream",
     "text": [
      "WARNING:tensorflow:From C:\\Users\\Iskndranii\\anaconda3\\envs\\e_hc_h\\Lib\\site-packages\\keras\\src\\optimizers\\__init__.py:309: The name tf.train.Optimizer is deprecated. Please use tf.compat.v1.train.Optimizer instead.\n",
      "\n"
     ]
    }
   ],
   "source": [
    "# Compile the model\n",
    "model.compile(loss='categorical_crossentropy', optimizer='adam', metrics=['accuracy'])"
   ]
  },
  {
   "cell_type": "code",
   "execution_count": 33,
   "id": "c1929c87-5abc-45fc-aa3d-3939ea33b024",
   "metadata": {},
   "outputs": [],
   "source": [
    "#from imblearn.over_sampling import RandomOverSampler"
   ]
  },
  {
   "cell_type": "code",
   "execution_count": 34,
   "id": "8e6ab226-fba3-43f7-8683-a40b1e85d9c2",
   "metadata": {},
   "outputs": [],
   "source": [
    "# Train the model\n",
    "#model.fit(X_train, y_train, epochs=10, batch_size=32, validation_data=(X_test, y_test))"
   ]
  },
  {
   "cell_type": "code",
   "execution_count": 35,
   "id": "ce6a5318-9a2c-4d67-86c3-d3a591a8e69a",
   "metadata": {},
   "outputs": [],
   "source": [
    "# Convert labels to categorical format\n",
    "le = LabelEncoder()\n",
    "y_train = to_categorical(le.fit_transform(y_train))\n",
    "y_test = to_categorical(le.fit_transform(y_test))"
   ]
  },
  {
   "cell_type": "code",
   "execution_count": null,
   "id": "715ea94b-e565-4a17-b94d-a8339afc6322",
   "metadata": {},
   "outputs": [],
   "source": []
  },
  {
   "cell_type": "code",
   "execution_count": 36,
   "id": "5d92d2e7-5d2f-4837-b843-edc08d8bdbc2",
   "metadata": {},
   "outputs": [
    {
     "name": "stdout",
     "output_type": "stream",
     "text": [
      "Epoch 1/40\n",
      "WARNING:tensorflow:From C:\\Users\\Iskndranii\\anaconda3\\envs\\e_hc_h\\Lib\\site-packages\\keras\\src\\utils\\tf_utils.py:492: The name tf.ragged.RaggedTensorValue is deprecated. Please use tf.compat.v1.ragged.RaggedTensorValue instead.\n",
      "\n",
      "WARNING:tensorflow:From C:\\Users\\Iskndranii\\anaconda3\\envs\\e_hc_h\\Lib\\site-packages\\keras\\src\\engine\\base_layer_utils.py:384: The name tf.executing_eagerly_outside_functions is deprecated. Please use tf.compat.v1.executing_eagerly_outside_functions instead.\n",
      "\n",
      "583/583 [==============================] - 6s 9ms/step - loss: 158.9317 - accuracy: 0.3252 - val_loss: 95.8867 - val_accuracy: 0.4134\n",
      "Epoch 2/40\n",
      "583/583 [==============================] - 4s 8ms/step - loss: 61.9488 - accuracy: 0.3499 - val_loss: 38.7976 - val_accuracy: 0.3769\n",
      "Epoch 3/40\n",
      "583/583 [==============================] - 4s 8ms/step - loss: 22.7345 - accuracy: 0.3863 - val_loss: 14.3624 - val_accuracy: 0.4495\n",
      "Epoch 4/40\n",
      "583/583 [==============================] - 5s 8ms/step - loss: 8.3427 - accuracy: 0.4245 - val_loss: 10.7158 - val_accuracy: 0.2756\n",
      "Epoch 5/40\n",
      "583/583 [==============================] - 5s 8ms/step - loss: 3.8043 - accuracy: 0.4354 - val_loss: 3.4979 - val_accuracy: 0.3713\n",
      "Epoch 6/40\n",
      "583/583 [==============================] - 5s 8ms/step - loss: 2.6117 - accuracy: 0.4330 - val_loss: 2.4052 - val_accuracy: 0.4117\n",
      "Epoch 7/40\n",
      "583/583 [==============================] - 5s 8ms/step - loss: 2.3894 - accuracy: 0.4283 - val_loss: 2.3376 - val_accuracy: 0.4336\n",
      "Epoch 8/40\n",
      "583/583 [==============================] - 5s 8ms/step - loss: 1.9026 - accuracy: 0.4401 - val_loss: 2.2715 - val_accuracy: 0.3857\n",
      "Epoch 9/40\n",
      "583/583 [==============================] - 5s 8ms/step - loss: 1.6622 - accuracy: 0.4559 - val_loss: 1.9261 - val_accuracy: 0.3767\n",
      "Epoch 10/40\n",
      "583/583 [==============================] - 5s 8ms/step - loss: 1.8302 - accuracy: 0.4479 - val_loss: 2.3499 - val_accuracy: 0.3655\n",
      "Epoch 11/40\n",
      "583/583 [==============================] - 4s 8ms/step - loss: 1.5429 - accuracy: 0.4729 - val_loss: 1.2340 - val_accuracy: 0.4999\n",
      "Epoch 12/40\n",
      "583/583 [==============================] - 5s 8ms/step - loss: 1.1790 - accuracy: 0.5514 - val_loss: 1.1465 - val_accuracy: 0.5744\n",
      "Epoch 13/40\n",
      "583/583 [==============================] - 5s 8ms/step - loss: 1.1049 - accuracy: 0.5845 - val_loss: 1.1660 - val_accuracy: 0.5778\n",
      "Epoch 14/40\n",
      "583/583 [==============================] - 5s 8ms/step - loss: 1.0806 - accuracy: 0.5964 - val_loss: 1.1380 - val_accuracy: 0.5924\n",
      "Epoch 15/40\n",
      "583/583 [==============================] - 5s 8ms/step - loss: 1.0704 - accuracy: 0.6031 - val_loss: 1.2215 - val_accuracy: 0.5918\n",
      "Epoch 16/40\n",
      "583/583 [==============================] - 5s 8ms/step - loss: 1.1416 - accuracy: 0.6101 - val_loss: 1.1507 - val_accuracy: 0.6008\n",
      "Epoch 17/40\n",
      "583/583 [==============================] - 5s 8ms/step - loss: 1.1422 - accuracy: 0.6026 - val_loss: 1.3820 - val_accuracy: 0.2919\n",
      "Epoch 18/40\n",
      "583/583 [==============================] - 5s 8ms/step - loss: 1.1852 - accuracy: 0.4534 - val_loss: 1.1391 - val_accuracy: 0.2908\n",
      "Epoch 19/40\n",
      "583/583 [==============================] - 5s 8ms/step - loss: 1.1169 - accuracy: 0.3827 - val_loss: 1.1111 - val_accuracy: 0.2893\n",
      "Epoch 20/40\n",
      "583/583 [==============================] - 5s 9ms/step - loss: 1.1590 - accuracy: 0.3865 - val_loss: 1.1615 - val_accuracy: 0.6139\n",
      "Epoch 21/40\n",
      "583/583 [==============================] - 5s 8ms/step - loss: 1.1258 - accuracy: 0.5483 - val_loss: 1.1386 - val_accuracy: 0.2910\n",
      "Epoch 22/40\n",
      "583/583 [==============================] - 5s 8ms/step - loss: 1.1024 - accuracy: 0.3274 - val_loss: 1.1251 - val_accuracy: 0.2906\n",
      "Epoch 23/40\n",
      "583/583 [==============================] - 4s 8ms/step - loss: 1.1240 - accuracy: 0.3878 - val_loss: 1.1115 - val_accuracy: 0.0944\n",
      "Epoch 24/40\n",
      "583/583 [==============================] - 4s 7ms/step - loss: 1.1298 - accuracy: 0.3834 - val_loss: 1.1912 - val_accuracy: 0.2900\n",
      "Epoch 25/40\n",
      "583/583 [==============================] - 4s 7ms/step - loss: 1.1330 - accuracy: 0.3125 - val_loss: 1.6109 - val_accuracy: 0.0942\n",
      "Epoch 26/40\n",
      "583/583 [==============================] - 4s 8ms/step - loss: 1.1963 - accuracy: 0.3566 - val_loss: 1.1216 - val_accuracy: 0.0944\n",
      "Epoch 27/40\n",
      "583/583 [==============================] - 4s 7ms/step - loss: 1.1050 - accuracy: 0.1142 - val_loss: 1.1250 - val_accuracy: 0.2904\n",
      "Epoch 28/40\n",
      "583/583 [==============================] - 4s 8ms/step - loss: 1.0987 - accuracy: 0.3332 - val_loss: 1.1145 - val_accuracy: 0.6149\n",
      "Epoch 29/40\n",
      "583/583 [==============================] - 4s 8ms/step - loss: 1.0978 - accuracy: 0.5605 - val_loss: 1.1232 - val_accuracy: 0.0944\n",
      "Epoch 30/40\n",
      "583/583 [==============================] - 4s 8ms/step - loss: 1.0979 - accuracy: 0.1349 - val_loss: 1.1195 - val_accuracy: 0.2904\n",
      "Epoch 31/40\n",
      "583/583 [==============================] - 5s 8ms/step - loss: 1.0979 - accuracy: 0.3306 - val_loss: 1.1190 - val_accuracy: 0.0944\n",
      "Epoch 32/40\n",
      "583/583 [==============================] - 4s 8ms/step - loss: 1.0979 - accuracy: 0.3441 - val_loss: 1.1165 - val_accuracy: 0.6149\n",
      "Epoch 33/40\n",
      "583/583 [==============================] - 4s 8ms/step - loss: 1.0979 - accuracy: 0.3781 - val_loss: 1.1165 - val_accuracy: 0.2904\n",
      "Epoch 34/40\n",
      "583/583 [==============================] - 4s 7ms/step - loss: 1.0979 - accuracy: 0.4647 - val_loss: 1.1223 - val_accuracy: 0.0944\n",
      "Epoch 35/40\n",
      "583/583 [==============================] - 5s 8ms/step - loss: 1.0979 - accuracy: 0.1924 - val_loss: 1.1154 - val_accuracy: 0.2904\n",
      "Epoch 36/40\n",
      "583/583 [==============================] - 5s 8ms/step - loss: 1.0979 - accuracy: 0.4186 - val_loss: 1.1192 - val_accuracy: 0.2904\n",
      "Epoch 37/40\n",
      "583/583 [==============================] - 4s 7ms/step - loss: 1.0978 - accuracy: 0.2994 - val_loss: 1.1168 - val_accuracy: 0.2904\n",
      "Epoch 38/40\n",
      "583/583 [==============================] - 4s 8ms/step - loss: 1.0979 - accuracy: 0.4011 - val_loss: 1.1209 - val_accuracy: 0.2904\n",
      "Epoch 39/40\n",
      "583/583 [==============================] - 5s 9ms/step - loss: 1.0978 - accuracy: 0.3979 - val_loss: 1.1177 - val_accuracy: 0.6149\n",
      "Epoch 40/40\n",
      "583/583 [==============================] - 5s 9ms/step - loss: 1.0979 - accuracy: 0.3430 - val_loss: 1.1191 - val_accuracy: 0.0944\n"
     ]
    },
    {
     "data": {
      "text/plain": [
       "<keras.src.callbacks.History at 0x26fb3d75ad0>"
      ]
     },
     "execution_count": 36,
     "metadata": {},
     "output_type": "execute_result"
    }
   ],
   "source": [
    "# Use class_weights in the fit method\n",
    "model.fit(X_train, y_train, epochs=40, batch_size=32, validation_data=(X_test, y_test), sample_weight=class_weights)"
   ]
  },
  {
   "cell_type": "code",
   "execution_count": null,
   "id": "f74a5c5b-8b87-4151-a7e8-4d784ef54c97",
   "metadata": {},
   "outputs": [],
   "source": []
  },
  {
   "cell_type": "code",
   "execution_count": 39,
   "id": "cf858c7b-916e-46cf-bc31-c23e6ac7a73f",
   "metadata": {},
   "outputs": [
    {
     "name": "stdout",
     "output_type": "stream",
     "text": [
      "146/146 [==============================] - 0s 3ms/step - loss: 1.1191 - accuracy: 0.0944\n",
      "Test Loss: 1.1190824508666992\n",
      "Test Accuracy: 0.09444086998701096\n"
     ]
    }
   ],
   "source": [
    "# Evaluate the model\n",
    "loss, accuracy = model.evaluate(X_test, y_test)\n",
    "print(\"Test Loss:\", loss)\n",
    "print(\"Test Accuracy:\", accuracy)"
   ]
  },
  {
   "cell_type": "code",
   "execution_count": null,
   "id": "e56a1bf9-0367-495c-859e-cadfd33e388f",
   "metadata": {},
   "outputs": [],
   "source": []
  },
  {
   "cell_type": "code",
   "execution_count": null,
   "id": "cbc811a9-3566-424c-b940-dc5d2b9997ef",
   "metadata": {},
   "outputs": [],
   "source": []
  }
 ],
 "metadata": {
  "kernelspec": {
   "display_name": "Python 3 (ipykernel)",
   "language": "python",
   "name": "python3"
  },
  "language_info": {
   "codemirror_mode": {
    "name": "ipython",
    "version": 3
   },
   "file_extension": ".py",
   "mimetype": "text/x-python",
   "name": "python",
   "nbconvert_exporter": "python",
   "pygments_lexer": "ipython3",
   "version": "3.11.5"
  }
 },
 "nbformat": 4,
 "nbformat_minor": 5
}
